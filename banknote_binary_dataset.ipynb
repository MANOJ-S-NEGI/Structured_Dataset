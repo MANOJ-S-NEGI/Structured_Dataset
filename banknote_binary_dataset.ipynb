{
  "nbformat": 4,
  "nbformat_minor": 0,
  "metadata": {
    "colab": {
      "name": "banknote_binary_dataset.ipynb",
      "provenance": [],
      "authorship_tag": "ABX9TyOs8KmAJ8j1Cbv5G1xnqcKL",
      "include_colab_link": true
    },
    "kernelspec": {
      "name": "python3",
      "display_name": "Python 3"
    },
    "language_info": {
      "name": "python"
    }
  },
  "cells": [
    {
      "cell_type": "markdown",
      "metadata": {
        "id": "view-in-github",
        "colab_type": "text"
      },
      "source": [
        "<a href=\"https://colab.research.google.com/github/MANOJ-S-NEGI/Structured_Dataset/blob/main/banknote_binary_dataset.ipynb\" target=\"_parent\"><img src=\"https://colab.research.google.com/assets/colab-badge.svg\" alt=\"Open In Colab\"/></a>"
      ]
    },
    {
      "cell_type": "markdown",
      "source": [
        "##Building and training neural network models using TensorFlow 2.x\n",
        "You need to understand the foundational principles of machine learning (ML) and deep learning (DL)\n",
        "\n",
        "using TensorFlow 2.x. You need to know how to:\n",
        "\n",
        "❏ Use TensorFlow 2.x.\n",
        "\n",
        "❏ Build, compile and train machine learning (ML) models using TensorFlow.\n",
        "\n",
        "❏ Preprocess data to get it ready for use in a model.\n",
        "\n",
        "❏ Use models to predict results.\n",
        "\n",
        "❏ Build sequential models with multiple layers\n",
        "\n",
        "❏ Build and train models for binary classification."
      ],
      "metadata": {
        "id": "aq4aWQnAGRP0"
      }
    },
    {
      "cell_type": "code",
      "execution_count": 1,
      "metadata": {
        "id": "5tvaMFyet3qD"
      },
      "outputs": [],
      "source": [
        "import numpy as np\n",
        "import matplotlib.pyplot as plt\n",
        "import pandas as pd\n",
        "from sklearn.model_selection import train_test_split\n",
        "import tensorflow as tf"
      ]
    },
    {
      "cell_type": "code",
      "source": [
        "# TensorFlow 2.x.\n",
        "tf.__version__"
      ],
      "metadata": {
        "colab": {
          "base_uri": "https://localhost:8080/",
          "height": 35
        },
        "id": "7eAnCRCKuEm6",
        "outputId": "a2ed0d1d-5524-4da3-a3ad-74e3f3f9504c"
      },
      "execution_count": 2,
      "outputs": [
        {
          "output_type": "execute_result",
          "data": {
            "text/plain": [
              "'2.8.0'"
            ],
            "application/vnd.google.colaboratory.intrinsic+json": {
              "type": "string"
            }
          },
          "metadata": {},
          "execution_count": 2
        }
      ]
    },
    {
      "cell_type": "code",
      "source": [
        "# Check for GPU\n",
        "!nvidia-smi -L"
      ],
      "metadata": {
        "colab": {
          "base_uri": "https://localhost:8080/"
        },
        "id": "SESXaOqUuJ5M",
        "outputId": "6d62cccb-7213-425e-a67b-5802bbf2859e"
      },
      "execution_count": 3,
      "outputs": [
        {
          "output_type": "stream",
          "name": "stdout",
          "text": [
            "NVIDIA-SMI has failed because it couldn't communicate with the NVIDIA driver. Make sure that the latest NVIDIA driver is installed and running.\n",
            "\n"
          ]
        }
      ]
    },
    {
      "cell_type": "code",
      "source": [
        "## calling the dataset:\n",
        "banknote=pd.read_csv(\"/content/data_banknote_authentication.csv\",header=None)"
      ],
      "metadata": {
        "id": "nJtGYfzauG5d"
      },
      "execution_count": 11,
      "outputs": []
    },
    {
      "cell_type": "markdown",
      "source": [
        "**Attribute Information:**\n",
        "---\n",
        "1. variance of Wavelet Transformed image (continuous)\n",
        "2. skewness of Wavelet Transformed image (continuous)\n",
        "3. curtosis of Wavelet Transformed image (continuous)\n",
        "4. entropy of image (continuous)\n",
        "5. class (integer)\n",
        "\n",
        "\n",
        "**Data Set Information:**\n",
        "\n",
        "Data were extracted from images that were taken from genuine and forged banknote-like specimens. \n",
        "\n",
        "For digitization, an industrial camera usually used for print inspection was used. The final images have 400x 400 pixels. Due to the object lens and distance to the investigated object gray-scale pictures with a resolution of about 660 dpi were gained. Wavelet Transform tool were used to extract features from images.\n",
        "\n",
        "\n",
        "\n",
        "\n",
        "**OBJECTIVE:**\n",
        ">There are 1372 items. There are 4 predictor variables (variance of image, skewness, kurtosis, entropy). The variable to predict is encoded as 0 (authentic) or 1 (forgery)."
      ],
      "metadata": {
        "id": "E3mt56cJvdLG"
      }
    },
    {
      "cell_type": "code",
      "source": [
        "banknote[800:810]"
      ],
      "metadata": {
        "colab": {
          "base_uri": "https://localhost:8080/",
          "height": 363
        },
        "id": "1PEiEzl9uJFj",
        "outputId": "82ba8e84-2a2b-4531-978f-6ea1ad4e8380"
      },
      "execution_count": 12,
      "outputs": [
        {
          "output_type": "execute_result",
          "data": {
            "text/plain": [
              "           0         1         2         3  4\n",
              "800 -2.06310 -1.514700  1.219000  0.445240  1\n",
              "801 -0.91318 -2.011300 -0.195650  0.066365  1\n",
              "802  0.60050  1.932700 -3.288800 -0.324150  1\n",
              "803  0.91315  3.337700 -4.055700 -1.674100  1\n",
              "804 -0.28015  3.072900 -3.385700 -2.915500  1\n",
              "805 -3.60850  3.325300 -0.519540 -3.573700  1\n",
              "806 -6.20030  8.680600  0.009134 -3.703000  1\n",
              "807 -4.29320  3.341900  0.772580 -0.997850  1\n",
              "808 -3.02650 -0.062088  0.686040 -0.055186  1\n",
              "809 -1.70150 -0.010356 -0.993370 -0.531040  1"
            ],
            "text/html": [
              "\n",
              "  <div id=\"df-35317797-f4a6-4c40-9871-dcd555d5bc98\">\n",
              "    <div class=\"colab-df-container\">\n",
              "      <div>\n",
              "<style scoped>\n",
              "    .dataframe tbody tr th:only-of-type {\n",
              "        vertical-align: middle;\n",
              "    }\n",
              "\n",
              "    .dataframe tbody tr th {\n",
              "        vertical-align: top;\n",
              "    }\n",
              "\n",
              "    .dataframe thead th {\n",
              "        text-align: right;\n",
              "    }\n",
              "</style>\n",
              "<table border=\"1\" class=\"dataframe\">\n",
              "  <thead>\n",
              "    <tr style=\"text-align: right;\">\n",
              "      <th></th>\n",
              "      <th>0</th>\n",
              "      <th>1</th>\n",
              "      <th>2</th>\n",
              "      <th>3</th>\n",
              "      <th>4</th>\n",
              "    </tr>\n",
              "  </thead>\n",
              "  <tbody>\n",
              "    <tr>\n",
              "      <th>800</th>\n",
              "      <td>-2.06310</td>\n",
              "      <td>-1.514700</td>\n",
              "      <td>1.219000</td>\n",
              "      <td>0.445240</td>\n",
              "      <td>1</td>\n",
              "    </tr>\n",
              "    <tr>\n",
              "      <th>801</th>\n",
              "      <td>-0.91318</td>\n",
              "      <td>-2.011300</td>\n",
              "      <td>-0.195650</td>\n",
              "      <td>0.066365</td>\n",
              "      <td>1</td>\n",
              "    </tr>\n",
              "    <tr>\n",
              "      <th>802</th>\n",
              "      <td>0.60050</td>\n",
              "      <td>1.932700</td>\n",
              "      <td>-3.288800</td>\n",
              "      <td>-0.324150</td>\n",
              "      <td>1</td>\n",
              "    </tr>\n",
              "    <tr>\n",
              "      <th>803</th>\n",
              "      <td>0.91315</td>\n",
              "      <td>3.337700</td>\n",
              "      <td>-4.055700</td>\n",
              "      <td>-1.674100</td>\n",
              "      <td>1</td>\n",
              "    </tr>\n",
              "    <tr>\n",
              "      <th>804</th>\n",
              "      <td>-0.28015</td>\n",
              "      <td>3.072900</td>\n",
              "      <td>-3.385700</td>\n",
              "      <td>-2.915500</td>\n",
              "      <td>1</td>\n",
              "    </tr>\n",
              "    <tr>\n",
              "      <th>805</th>\n",
              "      <td>-3.60850</td>\n",
              "      <td>3.325300</td>\n",
              "      <td>-0.519540</td>\n",
              "      <td>-3.573700</td>\n",
              "      <td>1</td>\n",
              "    </tr>\n",
              "    <tr>\n",
              "      <th>806</th>\n",
              "      <td>-6.20030</td>\n",
              "      <td>8.680600</td>\n",
              "      <td>0.009134</td>\n",
              "      <td>-3.703000</td>\n",
              "      <td>1</td>\n",
              "    </tr>\n",
              "    <tr>\n",
              "      <th>807</th>\n",
              "      <td>-4.29320</td>\n",
              "      <td>3.341900</td>\n",
              "      <td>0.772580</td>\n",
              "      <td>-0.997850</td>\n",
              "      <td>1</td>\n",
              "    </tr>\n",
              "    <tr>\n",
              "      <th>808</th>\n",
              "      <td>-3.02650</td>\n",
              "      <td>-0.062088</td>\n",
              "      <td>0.686040</td>\n",
              "      <td>-0.055186</td>\n",
              "      <td>1</td>\n",
              "    </tr>\n",
              "    <tr>\n",
              "      <th>809</th>\n",
              "      <td>-1.70150</td>\n",
              "      <td>-0.010356</td>\n",
              "      <td>-0.993370</td>\n",
              "      <td>-0.531040</td>\n",
              "      <td>1</td>\n",
              "    </tr>\n",
              "  </tbody>\n",
              "</table>\n",
              "</div>\n",
              "      <button class=\"colab-df-convert\" onclick=\"convertToInteractive('df-35317797-f4a6-4c40-9871-dcd555d5bc98')\"\n",
              "              title=\"Convert this dataframe to an interactive table.\"\n",
              "              style=\"display:none;\">\n",
              "        \n",
              "  <svg xmlns=\"http://www.w3.org/2000/svg\" height=\"24px\"viewBox=\"0 0 24 24\"\n",
              "       width=\"24px\">\n",
              "    <path d=\"M0 0h24v24H0V0z\" fill=\"none\"/>\n",
              "    <path d=\"M18.56 5.44l.94 2.06.94-2.06 2.06-.94-2.06-.94-.94-2.06-.94 2.06-2.06.94zm-11 1L8.5 8.5l.94-2.06 2.06-.94-2.06-.94L8.5 2.5l-.94 2.06-2.06.94zm10 10l.94 2.06.94-2.06 2.06-.94-2.06-.94-.94-2.06-.94 2.06-2.06.94z\"/><path d=\"M17.41 7.96l-1.37-1.37c-.4-.4-.92-.59-1.43-.59-.52 0-1.04.2-1.43.59L10.3 9.45l-7.72 7.72c-.78.78-.78 2.05 0 2.83L4 21.41c.39.39.9.59 1.41.59.51 0 1.02-.2 1.41-.59l7.78-7.78 2.81-2.81c.8-.78.8-2.07 0-2.86zM5.41 20L4 18.59l7.72-7.72 1.47 1.35L5.41 20z\"/>\n",
              "  </svg>\n",
              "      </button>\n",
              "      \n",
              "  <style>\n",
              "    .colab-df-container {\n",
              "      display:flex;\n",
              "      flex-wrap:wrap;\n",
              "      gap: 12px;\n",
              "    }\n",
              "\n",
              "    .colab-df-convert {\n",
              "      background-color: #E8F0FE;\n",
              "      border: none;\n",
              "      border-radius: 50%;\n",
              "      cursor: pointer;\n",
              "      display: none;\n",
              "      fill: #1967D2;\n",
              "      height: 32px;\n",
              "      padding: 0 0 0 0;\n",
              "      width: 32px;\n",
              "    }\n",
              "\n",
              "    .colab-df-convert:hover {\n",
              "      background-color: #E2EBFA;\n",
              "      box-shadow: 0px 1px 2px rgba(60, 64, 67, 0.3), 0px 1px 3px 1px rgba(60, 64, 67, 0.15);\n",
              "      fill: #174EA6;\n",
              "    }\n",
              "\n",
              "    [theme=dark] .colab-df-convert {\n",
              "      background-color: #3B4455;\n",
              "      fill: #D2E3FC;\n",
              "    }\n",
              "\n",
              "    [theme=dark] .colab-df-convert:hover {\n",
              "      background-color: #434B5C;\n",
              "      box-shadow: 0px 1px 3px 1px rgba(0, 0, 0, 0.15);\n",
              "      filter: drop-shadow(0px 1px 2px rgba(0, 0, 0, 0.3));\n",
              "      fill: #FFFFFF;\n",
              "    }\n",
              "  </style>\n",
              "\n",
              "      <script>\n",
              "        const buttonEl =\n",
              "          document.querySelector('#df-35317797-f4a6-4c40-9871-dcd555d5bc98 button.colab-df-convert');\n",
              "        buttonEl.style.display =\n",
              "          google.colab.kernel.accessAllowed ? 'block' : 'none';\n",
              "\n",
              "        async function convertToInteractive(key) {\n",
              "          const element = document.querySelector('#df-35317797-f4a6-4c40-9871-dcd555d5bc98');\n",
              "          const dataTable =\n",
              "            await google.colab.kernel.invokeFunction('convertToInteractive',\n",
              "                                                     [key], {});\n",
              "          if (!dataTable) return;\n",
              "\n",
              "          const docLinkHtml = 'Like what you see? Visit the ' +\n",
              "            '<a target=\"_blank\" href=https://colab.research.google.com/notebooks/data_table.ipynb>data table notebook</a>'\n",
              "            + ' to learn more about interactive tables.';\n",
              "          element.innerHTML = '';\n",
              "          dataTable['output_type'] = 'display_data';\n",
              "          await google.colab.output.renderOutput(dataTable, element);\n",
              "          const docLink = document.createElement('div');\n",
              "          docLink.innerHTML = docLinkHtml;\n",
              "          element.appendChild(docLink);\n",
              "        }\n",
              "      </script>\n",
              "    </div>\n",
              "  </div>\n",
              "  "
            ]
          },
          "metadata": {},
          "execution_count": 12
        }
      ]
    },
    {
      "cell_type": "markdown",
      "source": [
        "**Data Standardization**\n",
        ">Standardizing a dataset involves rescaling the distribution of values so that the mean of observed values is 0 and the standard deviation is 1.\n",
        "\n",
        "* This can be thought of as subtracting the mean value or centering the data.\n",
        "\n",
        "Like ```normalization```, ```standardization``` can be useful, and even required in some machine learning algorithms when your data has input values with differing scales.\n",
        "\n",
        "```Standardization``` assumes that your observations fit a Gaussian distribution (bell curve) with a well-behaved mean and standard deviation. You can still standardize your data if this expectation is not met, **but you may not get reliable results.**"
      ],
      "metadata": {
        "id": "sqdlRw6m7lGY"
      }
    },
    {
      "cell_type": "code",
      "source": [
        "from sklearn.preprocessing import MinMaxScaler\n",
        "from sklearn.compose import make_column_transformer\n",
        "from sklearn.model_selection import train_test_split\n",
        "\n",
        "# retrieve numpy array\n",
        "data = banknote.values\n",
        "# split into input and output elements\n",
        "x, y = data[:, :-1], data[:, -1]\n",
        "\n",
        "scaler = MinMaxScaler() ### scale x dataset between 0 to 1\n",
        "x_scaled =scaler.fit_transform(x)"
      ],
      "metadata": {
        "id": "wpqYAZUJu5FB"
      },
      "execution_count": 14,
      "outputs": []
    },
    {
      "cell_type": "code",
      "source": [
        "#split into input and output elements\n",
        "split_data=int(len(banknote)*.80)\n",
        "x_train,y_train = x_scaled[:split_data],y[:split_data]\n",
        "x_test,y_test   = x_scaled[split_data:],y[split_data:]"
      ],
      "metadata": {
        "id": "G3zsQoK551I7"
      },
      "execution_count": 22,
      "outputs": []
    },
    {
      "cell_type": "code",
      "source": [
        "x_train,y_train"
      ],
      "metadata": {
        "colab": {
          "base_uri": "https://localhost:8080/"
        },
        "id": "Pc9mxGfQzY0q",
        "outputId": "f1459dc9-7904-4adb-d4d2-91d61911cd58"
      },
      "execution_count": 23,
      "outputs": [
        {
          "output_type": "execute_result",
          "data": {
            "text/plain": [
              "(array([[0.76900389, 0.83964273, 0.10678269, 0.73662766],\n",
              "        [0.83565902, 0.82098209, 0.12180412, 0.64432563],\n",
              "        [0.78662859, 0.41664827, 0.31060805, 0.78695091],\n",
              "        ...,\n",
              "        [0.65333997, 0.58265575, 0.10028647, 0.79635742],\n",
              "        [0.5917761 , 0.66178853, 0.03152045, 0.42563445],\n",
              "        [0.19293425, 0.74247045, 0.25236091, 0.28018586]]),\n",
              " array([0., 0., 0., ..., 1., 1., 1.]))"
            ]
          },
          "metadata": {},
          "execution_count": 23
        }
      ]
    },
    {
      "cell_type": "code",
      "source": [
        "# Notice the normalized/one-hot encoded shape is larger because of the extra columns\n",
        "x_train.shape, y_train.shape,x_test.shape,y_test.shape"
      ],
      "metadata": {
        "colab": {
          "base_uri": "https://localhost:8080/"
        },
        "id": "2be0rsptxNDT",
        "outputId": "b79f8a05-1151-44ad-a2c1-9c72d15ea64c"
      },
      "execution_count": 21,
      "outputs": [
        {
          "output_type": "execute_result",
          "data": {
            "text/plain": [
              "((1097, 4), (1097,), (275, 4), (275,))"
            ]
          },
          "metadata": {},
          "execution_count": 21
        }
      ]
    },
    {
      "cell_type": "code",
      "source": [
        "## callback\n",
        "# Create a function to implement a ModelCheckpoint callback with a specific filename \n",
        "callbacks= tf.keras.callbacks.ModelCheckpoint(filepath=(\"/content/callback/dataset_banknote_model\"), # create filepath to save model\n",
        "                                            verbose=0, # only output a limited amount of text\n",
        "                                            save_best_only=True)\n",
        "\n",
        "# Create a function to implement a Earlystop callback with loss monitor)\n",
        "Early_stop=tf.keras.callbacks.EarlyStopping( monitor='loss',\n",
        "                                             patience=10,\n",
        "                                             verbose=0)"
      ],
      "metadata": {
        "id": "vc-7N7Da6YMn"
      },
      "execution_count": 39,
      "outputs": []
    },
    {
      "cell_type": "code",
      "source": [
        "# build the model with 3 layers:\n",
        "banknote_dataset=tf.keras.Sequential([\n",
        "                                      tf.keras.layers.Dense(32,activation=\"relu\"),\n",
        "                                      tf.keras.layers.Dense(32,activation=\"relu\"),\n",
        "                                      tf.keras.layers.Dense(1,activation=\"sigmoid\")\n",
        "                                      ])\n",
        "\n",
        "\n",
        "# Compile the model\n",
        "banknote_dataset.compile(loss=tf.keras.losses.BinaryCrossentropy(),\n",
        "                         optimizer=tf.keras.optimizers.Adam(),\n",
        "                         metrics=[\"accuracy\"])\n",
        "\n",
        "\n",
        "# Fit the model for 200 epochs (same as insurance_model_2)\n",
        "history=banknote_dataset.fit(x_train,\n",
        "                             y_train,\n",
        "                             epochs=20,\n",
        "                             verbose=0,\n",
        "                             callbacks=[Early_stop])"
      ],
      "metadata": {
        "id": "I4zSzpHh-PNa"
      },
      "execution_count": 45,
      "outputs": []
    },
    {
      "cell_type": "code",
      "source": [
        "banknote_dataset.evaluate(x_test,y_test)"
      ],
      "metadata": {
        "colab": {
          "base_uri": "https://localhost:8080/"
        },
        "id": "LH2zY3O2-Mrq",
        "outputId": "fdef6287-e22a-4a08-b386-d950ff74f2fa"
      },
      "execution_count": 46,
      "outputs": [
        {
          "output_type": "stream",
          "name": "stdout",
          "text": [
            "9/9 [==============================] - 0s 2ms/step - loss: 0.1345 - accuracy: 0.9527\n"
          ]
        },
        {
          "output_type": "execute_result",
          "data": {
            "text/plain": [
              "[0.13454675674438477, 0.9527272582054138]"
            ]
          },
          "metadata": {},
          "execution_count": 46
        }
      ]
    },
    {
      "cell_type": "code",
      "source": [
        "pd.DataFrame(history.history).plot()\n",
        "plt.ylabel(\"loss\")\n",
        "plt.xlabel(\"epochs\"); # note: epochs will only show 20 since we overrid the history variable"
      ],
      "metadata": {
        "colab": {
          "base_uri": "https://localhost:8080/",
          "height": 279
        },
        "id": "7Kavwj3bATS0",
        "outputId": "654ceefd-16b8-42ae-fc79-05d20a462cb7"
      },
      "execution_count": 48,
      "outputs": [
        {
          "output_type": "display_data",
          "data": {
            "text/plain": [
              "<Figure size 432x288 with 1 Axes>"
            ],
            "image/png": "[encoded data removed]"
          },
          "metadata": {
            "needs_background": "light"
          }
        }
      ]
    },
    {
      "cell_type": "code",
      "source": [
        "## model prediction on x_dataset\n",
        "model_preds=banknote_dataset.predict(x_test)\n",
        "preds=tf.math.round(model_preds)\n",
        "preds[:10],y_test[:20]"
      ],
      "metadata": {
        "colab": {
          "base_uri": "https://localhost:8080/"
        },
        "id": "o-GNjkJAAjw0",
        "outputId": "94d712dc-1d28-4cbe-f8a4-c6d16ca76d68"
      },
      "execution_count": 78,
      "outputs": [
        {
          "output_type": "execute_result",
          "data": {
            "text/plain": [
              "(<tf.Tensor: shape=(10, 1), dtype=float32, numpy=\n",
              " array([[1.],\n",
              "        [1.],\n",
              "        [1.],\n",
              "        [1.],\n",
              "        [0.],\n",
              "        [0.],\n",
              "        [1.],\n",
              "        [1.],\n",
              "        [1.],\n",
              "        [1.]], dtype=float32)>,\n",
              " array([1., 1., 1., 1., 1., 1., 1., 1., 1., 1., 1., 1., 1., 1., 1., 1., 1.,\n",
              "        1., 1., 1.]))"
            ]
          },
          "metadata": {},
          "execution_count": 78
        }
      ]
    },
    {
      "cell_type": "code",
      "source": [
        "# plot the y_test and model_preds\n",
        "plt.scatter(y_test,preds)"
      ],
      "metadata": {
        "colab": {
          "base_uri": "https://localhost:8080/",
          "height": 282
        },
        "id": "9ITVV8B1CkFa",
        "outputId": "e31b778a-a119-4051-8d65-6d7bc8e15a70"
      },
      "execution_count": 77,
      "outputs": [
        {
          "output_type": "execute_result",
          "data": {
            "text/plain": [
              "<matplotlib.collections.PathCollection at 0x7fddcf27de50>"
            ]
          },
          "metadata": {},
          "execution_count": 77
        },
        {
          "output_type": "display_data",
          "data": {
            "text/plain": [
              "<Figure size 432x288 with 1 Axes>"
            ],
            "image/png": "[encoded data removed]"
          },
          "metadata": {
            "needs_background": "light"
          }
        }
      ]
    },
    {
      "cell_type": "code",
      "source": [
        "# Save a model using the SavedModel format\n",
        "banknote_dataset.save('best_model_SavedModel_format.h5')"
      ],
      "metadata": {
        "id": "8Jf_CGLnEsZx"
      },
      "execution_count": 82,
      "outputs": []
    },
    {
      "cell_type": "code",
      "source": [
        "# Load a model from the SavedModel format\n",
        "loaded_saved_model = tf.keras.models.load_model(\"best_model_SavedModel_format.h5\")\n",
        "loaded_saved_model.summary()"
      ],
      "metadata": {
        "colab": {
          "base_uri": "https://localhost:8080/"
        },
        "id": "HW-Uf_CWF1Yv",
        "outputId": "79226b63-0d4a-4d3b-d408-8486782ec93c"
      },
      "execution_count": 83,
      "outputs": [
        {
          "output_type": "stream",
          "name": "stdout",
          "text": [
            "Model: \"sequential_10\"\n",
            "_________________________________________________________________\n",
            " Layer (type)                Output Shape              Param #   \n",
            "=================================================================\n",
            " dense_30 (Dense)            (None, 32)                160       \n",
            "                                                                 \n",
            " dense_31 (Dense)            (None, 32)                1056      \n",
            "                                                                 \n",
            " dense_32 (Dense)            (None, 1)                 33        \n",
            "                                                                 \n",
            "=================================================================\n",
            "Total params: 1,249\n",
            "Trainable params: 1,249\n",
            "Non-trainable params: 0\n",
            "_________________________________________________________________\n"
          ]
        }
      ]
    },
    {
      "cell_type": "code",
      "source": [
        "loaded_saved_model.evaluate(x_test,y_test)"
      ],
      "metadata": {
        "colab": {
          "base_uri": "https://localhost:8080/"
        },
        "id": "Iou1P7ykF4vD",
        "outputId": "e5f4c547-6493-469f-dcce-0fa60f41a84c"
      },
      "execution_count": 84,
      "outputs": [
        {
          "output_type": "stream",
          "name": "stdout",
          "text": [
            "9/9 [==============================] - 0s 3ms/step - loss: 0.1345 - accuracy: 0.9527\n"
          ]
        },
        {
          "output_type": "execute_result",
          "data": {
            "text/plain": [
              "[0.13454675674438477, 0.9527272582054138]"
            ]
          },
          "metadata": {},
          "execution_count": 84
        }
      ]
    },
    {
      "cell_type": "code",
      "source": [
        "pred_df = pd.DataFrame({\n",
        "                        \"y_true\": y_test,\n",
        "                        \"y_pred\":tf.squeeze( model_preds),\n",
        "                        \"y_pred_round\":tf.squeeze(preds)\n",
        "                              })\n",
        "                        \n",
        "# 3. Is the prediction correct?\n",
        "pred_df[\"pred_correct\"] = pred_df[\"y_true\"] == pred_df[\"y_pred_round\"]\n",
        "pred_df[:10]\n"
      ],
      "metadata": {
        "colab": {
          "base_uri": "https://localhost:8080/",
          "height": 363
        },
        "id": "DFntTNJwG9qK",
        "outputId": "9056182a-b00f-40d7-a8a1-3ffa83d5c360"
      },
      "execution_count": 101,
      "outputs": [
        {
          "output_type": "execute_result",
          "data": {
            "text/plain": [
              "   y_true    y_pred  y_pred_round  pred_correct\n",
              "0     1.0  0.976168           1.0          True\n",
              "1     1.0  0.966357           1.0          True\n",
              "2     1.0  0.936680           1.0          True\n",
              "3     1.0  0.827319           1.0          True\n",
              "4     1.0  0.249154           0.0         False\n",
              "5     1.0  0.211868           0.0         False\n",
              "6     1.0  0.973872           1.0          True\n",
              "7     1.0  0.988146           1.0          True\n",
              "8     1.0  0.982594           1.0          True\n",
              "9     1.0  0.960331           1.0          True"
            ],
            "text/html": [
              "\n",
              "  <div id=\"df-c5abbb8b-d934-4aa6-afbf-6796f25fe3b4\">\n",
              "    <div class=\"colab-df-container\">\n",
              "      <div>\n",
              "<style scoped>\n",
              "    .dataframe tbody tr th:only-of-type {\n",
              "        vertical-align: middle;\n",
              "    }\n",
              "\n",
              "    .dataframe tbody tr th {\n",
              "        vertical-align: top;\n",
              "    }\n",
              "\n",
              "    .dataframe thead th {\n",
              "        text-align: right;\n",
              "    }\n",
              "</style>\n",
              "<table border=\"1\" class=\"dataframe\">\n",
              "  <thead>\n",
              "    <tr style=\"text-align: right;\">\n",
              "      <th></th>\n",
              "      <th>y_true</th>\n",
              "      <th>y_pred</th>\n",
              "      <th>y_pred_round</th>\n",
              "      <th>pred_correct</th>\n",
              "    </tr>\n",
              "  </thead>\n",
              "  <tbody>\n",
              "    <tr>\n",
              "      <th>0</th>\n",
              "      <td>1.0</td>\n",
              "      <td>0.976168</td>\n",
              "      <td>1.0</td>\n",
              "      <td>True</td>\n",
              "    </tr>\n",
              "    <tr>\n",
              "      <th>1</th>\n",
              "      <td>1.0</td>\n",
              "      <td>0.966357</td>\n",
              "      <td>1.0</td>\n",
              "      <td>True</td>\n",
              "    </tr>\n",
              "    <tr>\n",
              "      <th>2</th>\n",
              "      <td>1.0</td>\n",
              "      <td>0.936680</td>\n",
              "      <td>1.0</td>\n",
              "      <td>True</td>\n",
              "    </tr>\n",
              "    <tr>\n",
              "      <th>3</th>\n",
              "      <td>1.0</td>\n",
              "      <td>0.827319</td>\n",
              "      <td>1.0</td>\n",
              "      <td>True</td>\n",
              "    </tr>\n",
              "    <tr>\n",
              "      <th>4</th>\n",
              "      <td>1.0</td>\n",
              "      <td>0.249154</td>\n",
              "      <td>0.0</td>\n",
              "      <td>False</td>\n",
              "    </tr>\n",
              "    <tr>\n",
              "      <th>5</th>\n",
              "      <td>1.0</td>\n",
              "      <td>0.211868</td>\n",
              "      <td>0.0</td>\n",
              "      <td>False</td>\n",
              "    </tr>\n",
              "    <tr>\n",
              "      <th>6</th>\n",
              "      <td>1.0</td>\n",
              "      <td>0.973872</td>\n",
              "      <td>1.0</td>\n",
              "      <td>True</td>\n",
              "    </tr>\n",
              "    <tr>\n",
              "      <th>7</th>\n",
              "      <td>1.0</td>\n",
              "      <td>0.988146</td>\n",
              "      <td>1.0</td>\n",
              "      <td>True</td>\n",
              "    </tr>\n",
              "    <tr>\n",
              "      <th>8</th>\n",
              "      <td>1.0</td>\n",
              "      <td>0.982594</td>\n",
              "      <td>1.0</td>\n",
              "      <td>True</td>\n",
              "    </tr>\n",
              "    <tr>\n",
              "      <th>9</th>\n",
              "      <td>1.0</td>\n",
              "      <td>0.960331</td>\n",
              "      <td>1.0</td>\n",
              "      <td>True</td>\n",
              "    </tr>\n",
              "  </tbody>\n",
              "</table>\n",
              "</div>\n",
              "      <button class=\"colab-df-convert\" onclick=\"convertToInteractive('df-c5abbb8b-d934-4aa6-afbf-6796f25fe3b4')\"\n",
              "              title=\"Convert this dataframe to an interactive table.\"\n",
              "              style=\"display:none;\">\n",
              "        \n",
              "  <svg xmlns=\"http://www.w3.org/2000/svg\" height=\"24px\"viewBox=\"0 0 24 24\"\n",
              "       width=\"24px\">\n",
              "    <path d=\"M0 0h24v24H0V0z\" fill=\"none\"/>\n",
              "    <path d=\"M18.56 5.44l.94 2.06.94-2.06 2.06-.94-2.06-.94-.94-2.06-.94 2.06-2.06.94zm-11 1L8.5 8.5l.94-2.06 2.06-.94-2.06-.94L8.5 2.5l-.94 2.06-2.06.94zm10 10l.94 2.06.94-2.06 2.06-.94-2.06-.94-.94-2.06-.94 2.06-2.06.94z\"/><path d=\"M17.41 7.96l-1.37-1.37c-.4-.4-.92-.59-1.43-.59-.52 0-1.04.2-1.43.59L10.3 9.45l-7.72 7.72c-.78.78-.78 2.05 0 2.83L4 21.41c.39.39.9.59 1.41.59.51 0 1.02-.2 1.41-.59l7.78-7.78 2.81-2.81c.8-.78.8-2.07 0-2.86zM5.41 20L4 18.59l7.72-7.72 1.47 1.35L5.41 20z\"/>\n",
              "  </svg>\n",
              "      </button>\n",
              "      \n",
              "  <style>\n",
              "    .colab-df-container {\n",
              "      display:flex;\n",
              "      flex-wrap:wrap;\n",
              "      gap: 12px;\n",
              "    }\n",
              "\n",
              "    .colab-df-convert {\n",
              "      background-color: #E8F0FE;\n",
              "      border: none;\n",
              "      border-radius: 50%;\n",
              "      cursor: pointer;\n",
              "      display: none;\n",
              "      fill: #1967D2;\n",
              "      height: 32px;\n",
              "      padding: 0 0 0 0;\n",
              "      width: 32px;\n",
              "    }\n",
              "\n",
              "    .colab-df-convert:hover {\n",
              "      background-color: #E2EBFA;\n",
              "      box-shadow: 0px 1px 2px rgba(60, 64, 67, 0.3), 0px 1px 3px 1px rgba(60, 64, 67, 0.15);\n",
              "      fill: #174EA6;\n",
              "    }\n",
              "\n",
              "    [theme=dark] .colab-df-convert {\n",
              "      background-color: #3B4455;\n",
              "      fill: #D2E3FC;\n",
              "    }\n",
              "\n",
              "    [theme=dark] .colab-df-convert:hover {\n",
              "      background-color: #434B5C;\n",
              "      box-shadow: 0px 1px 3px 1px rgba(0, 0, 0, 0.15);\n",
              "      filter: drop-shadow(0px 1px 2px rgba(0, 0, 0, 0.3));\n",
              "      fill: #FFFFFF;\n",
              "    }\n",
              "  </style>\n",
              "\n",
              "      <script>\n",
              "        const buttonEl =\n",
              "          document.querySelector('#df-c5abbb8b-d934-4aa6-afbf-6796f25fe3b4 button.colab-df-convert');\n",
              "        buttonEl.style.display =\n",
              "          google.colab.kernel.accessAllowed ? 'block' : 'none';\n",
              "\n",
              "        async function convertToInteractive(key) {\n",
              "          const element = document.querySelector('#df-c5abbb8b-d934-4aa6-afbf-6796f25fe3b4');\n",
              "          const dataTable =\n",
              "            await google.colab.kernel.invokeFunction('convertToInteractive',\n",
              "                                                     [key], {});\n",
              "          if (!dataTable) return;\n",
              "\n",
              "          const docLinkHtml = 'Like what you see? Visit the ' +\n",
              "            '<a target=\"_blank\" href=https://colab.research.google.com/notebooks/data_table.ipynb>data table notebook</a>'\n",
              "            + ' to learn more about interactive tables.';\n",
              "          element.innerHTML = '';\n",
              "          dataTable['output_type'] = 'display_data';\n",
              "          await google.colab.output.renderOutput(dataTable, element);\n",
              "          const docLink = document.createElement('div');\n",
              "          docLink.innerHTML = docLinkHtml;\n",
              "          element.appendChild(docLink);\n",
              "        }\n",
              "      </script>\n",
              "    </div>\n",
              "  </div>\n",
              "  "
            ]
          },
          "metadata": {},
          "execution_count": 101
        }
      ]
    }
  ]
}