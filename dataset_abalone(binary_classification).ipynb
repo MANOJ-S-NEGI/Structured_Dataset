{
  "nbformat": 4,
  "nbformat_minor": 0,
  "metadata": {
    "colab": {
      "name": "dataset_abalone(binary_classification).ipynb",
      "provenance": [],
      "authorship_tag": "ABX9TyNLi0gXi0SLR5cjmb2KXHf2",
      "include_colab_link": true
    },
    "kernelspec": {
      "name": "python3",
      "display_name": "Python 3"
    },
    "language_info": {
      "name": "python"
    },
    "accelerator": "GPU"
  },
  "cells": [
    {
      "cell_type": "markdown",
      "metadata": {
        "id": "view-in-github",
        "colab_type": "text"
      },
      "source": [
        "<a href=\"https://colab.research.google.com/github/MANOJ-S-NEGI/Structured_Dataset/blob/main/dataset_abalone(binary_classification).ipynb\" target=\"_parent\"><img src=\"https://colab.research.google.com/assets/colab-badge.svg\" alt=\"Open In Colab\"/></a>"
      ]
    },
    {
      "cell_type": "markdown",
      "source": [
        "# Building and training neural network models using TensorFlow 2.x\n",
        "You need to understand the foundational principles of machine learning (ML) and deep learning (DL)\n",
        ">using TensorFlow 2.x. You need to know how to:\n",
        "* ❏ Use TensorFlow 2.x.\n",
        "* ❏ Build, compile and train machine learning (ML) models using TensorFlow.\n",
        "* ❏ Preprocess data to get it ready for use in a model.\n",
        "* ❏ Use models to predict results.\n",
        "* ❏ Build sequential models with multiple layers\n",
        "* ❏ Build and train models for binary classification.\n",
        "* ❏ Build and train models for multi-class categorization.\n",
        "* ❏ Plot loss and accuracy of a trained model.\n",
        "* ❏ Identify strategies to prevent overfitting, including augmentation and dropout.\n",
        "* ❏ Use pretrained models (transfer learning).\n",
        "* ❏ Extract features from pre-trained models.\n",
        "* ❏ Ensure that inputs to a model are in the correct shape.\n",
        "* ❏ Ensure that you can match test data to the input shape of a neural network.\n",
        "* ❏ Ensure you can match output data of a neural network to specified input shape for test data.\n",
        "* ❏ Understand batch loading of data.\n",
        "* ❏ Use callbacks to trigger the end of training cycles.\n",
        "* ❏ Use datasets from different sources.\n",
        "* ❏ Use datasets in different formats, including json and csv.\n",
        "* ❏ Use datasets from tf.data.datasets.\n"
      ],
      "metadata": {
        "id": "RfUaGtlSRtUy"
      }
    },
    {
      "cell_type": "code",
      "source": [
        "import numpy as np\n",
        "import matplotlib.pyplot as plt\n",
        "import pandas as pd\n",
        "from sklearn.model_selection import train_test_split\n",
        "import tensorflow as tf"
      ],
      "metadata": {
        "id": "OitD1Ac4UnH4"
      },
      "execution_count": 3,
      "outputs": []
    },
    {
      "cell_type": "code",
      "source": [
        "# TensorFlow 2.x.\n",
        "tf.__version__"
      ],
      "metadata": {
        "colab": {
          "base_uri": "https://localhost:8080/",
          "height": 35
        },
        "id": "2CG010u6SkWn",
        "outputId": "f8833231-3ca9-471c-ce31-e6aab8ef511d"
      },
      "execution_count": 4,
      "outputs": [
        {
          "output_type": "execute_result",
          "data": {
            "text/plain": [
              "'2.8.0'"
            ],
            "application/vnd.google.colaboratory.intrinsic+json": {
              "type": "string"
            }
          },
          "metadata": {},
          "execution_count": 4
        }
      ]
    },
    {
      "cell_type": "code",
      "source": [
        "## calling the dataset:\n",
        "dataset_abalone=pd.read_csv(\"/content/abalone.csv\",index_col=False)"
      ],
      "metadata": {
        "id": "24A7tQpYdRNb"
      },
      "execution_count": 7,
      "outputs": []
    },
    {
      "cell_type": "code",
      "source": [
        "dataset_abalone.head()"
      ],
      "metadata": {
        "colab": {
          "base_uri": "https://localhost:8080/",
          "height": 215
        },
        "id": "5PTO_z5IWZVC",
        "outputId": "4399330c-c281-4348-bfcd-f5b2f8025461"
      },
      "execution_count": 8,
      "outputs": [
        {
          "output_type": "execute_result",
          "data": {
            "text/plain": [
              "  Type  LongestShell  Diameter  Height  WholeWeight  ShuckedWeight  \\\n",
              "0    M         0.455     0.365   0.095       0.5140         0.2245   \n",
              "1    M         0.350     0.265   0.090       0.2255         0.0995   \n",
              "2    F         0.530     0.420   0.135       0.6770         0.2565   \n",
              "3    M         0.440     0.365   0.125       0.5160         0.2155   \n",
              "4    I         0.330     0.255   0.080       0.2050         0.0895   \n",
              "\n",
              "   VisceraWeight  ShellWeight  Rings  \n",
              "0         0.1010        0.150     15  \n",
              "1         0.0485        0.070      7  \n",
              "2         0.1415        0.210      9  \n",
              "3         0.1140        0.155     10  \n",
              "4         0.0395        0.055      7  "
            ],
            "text/html": [
              "\n",
              "  <div id=\"df-8c74e758-77a8-49ec-97df-5ce0e67ae684\">\n",
              "    <div class=\"colab-df-container\">\n",
              "      <div>\n",
              "<style scoped>\n",
              "    .dataframe tbody tr th:only-of-type {\n",
              "        vertical-align: middle;\n",
              "    }\n",
              "\n",
              "    .dataframe tbody tr th {\n",
              "        vertical-align: top;\n",
              "    }\n",
              "\n",
              "    .dataframe thead th {\n",
              "        text-align: right;\n",
              "    }\n",
              "</style>\n",
              "<table border=\"1\" class=\"dataframe\">\n",
              "  <thead>\n",
              "    <tr style=\"text-align: right;\">\n",
              "      <th></th>\n",
              "      <th>Type</th>\n",
              "      <th>LongestShell</th>\n",
              "      <th>Diameter</th>\n",
              "      <th>Height</th>\n",
              "      <th>WholeWeight</th>\n",
              "      <th>ShuckedWeight</th>\n",
              "      <th>VisceraWeight</th>\n",
              "      <th>ShellWeight</th>\n",
              "      <th>Rings</th>\n",
              "    </tr>\n",
              "  </thead>\n",
              "  <tbody>\n",
              "    <tr>\n",
              "      <th>0</th>\n",
              "      <td>M</td>\n",
              "      <td>0.455</td>\n",
              "      <td>0.365</td>\n",
              "      <td>0.095</td>\n",
              "      <td>0.5140</td>\n",
              "      <td>0.2245</td>\n",
              "      <td>0.1010</td>\n",
              "      <td>0.150</td>\n",
              "      <td>15</td>\n",
              "    </tr>\n",
              "    <tr>\n",
              "      <th>1</th>\n",
              "      <td>M</td>\n",
              "      <td>0.350</td>\n",
              "      <td>0.265</td>\n",
              "      <td>0.090</td>\n",
              "      <td>0.2255</td>\n",
              "      <td>0.0995</td>\n",
              "      <td>0.0485</td>\n",
              "      <td>0.070</td>\n",
              "      <td>7</td>\n",
              "    </tr>\n",
              "    <tr>\n",
              "      <th>2</th>\n",
              "      <td>F</td>\n",
              "      <td>0.530</td>\n",
              "      <td>0.420</td>\n",
              "      <td>0.135</td>\n",
              "      <td>0.6770</td>\n",
              "      <td>0.2565</td>\n",
              "      <td>0.1415</td>\n",
              "      <td>0.210</td>\n",
              "      <td>9</td>\n",
              "    </tr>\n",
              "    <tr>\n",
              "      <th>3</th>\n",
              "      <td>M</td>\n",
              "      <td>0.440</td>\n",
              "      <td>0.365</td>\n",
              "      <td>0.125</td>\n",
              "      <td>0.5160</td>\n",
              "      <td>0.2155</td>\n",
              "      <td>0.1140</td>\n",
              "      <td>0.155</td>\n",
              "      <td>10</td>\n",
              "    </tr>\n",
              "    <tr>\n",
              "      <th>4</th>\n",
              "      <td>I</td>\n",
              "      <td>0.330</td>\n",
              "      <td>0.255</td>\n",
              "      <td>0.080</td>\n",
              "      <td>0.2050</td>\n",
              "      <td>0.0895</td>\n",
              "      <td>0.0395</td>\n",
              "      <td>0.055</td>\n",
              "      <td>7</td>\n",
              "    </tr>\n",
              "  </tbody>\n",
              "</table>\n",
              "</div>\n",
              "      <button class=\"colab-df-convert\" onclick=\"convertToInteractive('df-8c74e758-77a8-49ec-97df-5ce0e67ae684')\"\n",
              "              title=\"Convert this dataframe to an interactive table.\"\n",
              "              style=\"display:none;\">\n",
              "        \n",
              "  <svg xmlns=\"http://www.w3.org/2000/svg\" height=\"24px\"viewBox=\"0 0 24 24\"\n",
              "       width=\"24px\">\n",
              "    <path d=\"M0 0h24v24H0V0z\" fill=\"none\"/>\n",
              "    <path d=\"M18.56 5.44l.94 2.06.94-2.06 2.06-.94-2.06-.94-.94-2.06-.94 2.06-2.06.94zm-11 1L8.5 8.5l.94-2.06 2.06-.94-2.06-.94L8.5 2.5l-.94 2.06-2.06.94zm10 10l.94 2.06.94-2.06 2.06-.94-2.06-.94-.94-2.06-.94 2.06-2.06.94z\"/><path d=\"M17.41 7.96l-1.37-1.37c-.4-.4-.92-.59-1.43-.59-.52 0-1.04.2-1.43.59L10.3 9.45l-7.72 7.72c-.78.78-.78 2.05 0 2.83L4 21.41c.39.39.9.59 1.41.59.51 0 1.02-.2 1.41-.59l7.78-7.78 2.81-2.81c.8-.78.8-2.07 0-2.86zM5.41 20L4 18.59l7.72-7.72 1.47 1.35L5.41 20z\"/>\n",
              "  </svg>\n",
              "      </button>\n",
              "      \n",
              "  <style>\n",
              "    .colab-df-container {\n",
              "      display:flex;\n",
              "      flex-wrap:wrap;\n",
              "      gap: 12px;\n",
              "    }\n",
              "\n",
              "    .colab-df-convert {\n",
              "      background-color: #E8F0FE;\n",
              "      border: none;\n",
              "      border-radius: 50%;\n",
              "      cursor: pointer;\n",
              "      display: none;\n",
              "      fill: #1967D2;\n",
              "      height: 32px;\n",
              "      padding: 0 0 0 0;\n",
              "      width: 32px;\n",
              "    }\n",
              "\n",
              "    .colab-df-convert:hover {\n",
              "      background-color: #E2EBFA;\n",
              "      box-shadow: 0px 1px 2px rgba(60, 64, 67, 0.3), 0px 1px 3px 1px rgba(60, 64, 67, 0.15);\n",
              "      fill: #174EA6;\n",
              "    }\n",
              "\n",
              "    [theme=dark] .colab-df-convert {\n",
              "      background-color: #3B4455;\n",
              "      fill: #D2E3FC;\n",
              "    }\n",
              "\n",
              "    [theme=dark] .colab-df-convert:hover {\n",
              "      background-color: #434B5C;\n",
              "      box-shadow: 0px 1px 3px 1px rgba(0, 0, 0, 0.15);\n",
              "      filter: drop-shadow(0px 1px 2px rgba(0, 0, 0, 0.3));\n",
              "      fill: #FFFFFF;\n",
              "    }\n",
              "  </style>\n",
              "\n",
              "      <script>\n",
              "        const buttonEl =\n",
              "          document.querySelector('#df-8c74e758-77a8-49ec-97df-5ce0e67ae684 button.colab-df-convert');\n",
              "        buttonEl.style.display =\n",
              "          google.colab.kernel.accessAllowed ? 'block' : 'none';\n",
              "\n",
              "        async function convertToInteractive(key) {\n",
              "          const element = document.querySelector('#df-8c74e758-77a8-49ec-97df-5ce0e67ae684');\n",
              "          const dataTable =\n",
              "            await google.colab.kernel.invokeFunction('convertToInteractive',\n",
              "                                                     [key], {});\n",
              "          if (!dataTable) return;\n",
              "\n",
              "          const docLinkHtml = 'Like what you see? Visit the ' +\n",
              "            '<a target=\"_blank\" href=https://colab.research.google.com/notebooks/data_table.ipynb>data table notebook</a>'\n",
              "            + ' to learn more about interactive tables.';\n",
              "          element.innerHTML = '';\n",
              "          dataTable['output_type'] = 'display_data';\n",
              "          await google.colab.output.renderOutput(dataTable, element);\n",
              "          const docLink = document.createElement('div');\n",
              "          docLink.innerHTML = docLinkHtml;\n",
              "          element.appendChild(docLink);\n",
              "        }\n",
              "      </script>\n",
              "    </div>\n",
              "  </div>\n",
              "  "
            ]
          },
          "metadata": {},
          "execution_count": 8
        }
      ]
    },
    {
      "cell_type": "code",
      "source": [
        "from sklearn.preprocessing import MinMaxScaler,OneHotEncoder\n",
        "from sklearn.compose import make_column_transformer\n",
        "from sklearn.model_selection import train_test_split\n",
        "\n",
        "ct=make_column_transformer(\n",
        "                           (MinMaxScaler(),[\"LongestShell\",\"Diameter\",\"Height\",\"WholeWeight\",\"ShuckedWeight\",\"VisceraWeight\",\"ShellWeight\",]),\n",
        "                           (OneHotEncoder(handle_unknown=\"ignore\"),[\"Type\"])\n",
        "                           )\n",
        "ct\n"
      ],
      "metadata": {
        "colab": {
          "base_uri": "https://localhost:8080/"
        },
        "id": "oZfFbuYbWo4n",
        "outputId": "8539a1f1-4149-4726-cf2e-af3204b464e2"
      },
      "execution_count": 16,
      "outputs": [
        {
          "output_type": "execute_result",
          "data": {
            "text/plain": [
              "ColumnTransformer(transformers=[('minmaxscaler', MinMaxScaler(),\n",
              "                                 ['LongestShell', 'Diameter', 'Height',\n",
              "                                  'WholeWeight', 'ShuckedWeight',\n",
              "                                  'VisceraWeight', 'ShellWeight']),\n",
              "                                ('onehotencoder',\n",
              "                                 OneHotEncoder(handle_unknown='ignore'),\n",
              "                                 ['Type'])])"
            ]
          },
          "metadata": {},
          "execution_count": 16
        }
      ]
    },
    {
      "cell_type": "code",
      "source": [
        "# Create x & y\n",
        "x = dataset_abalone.drop(\"Rings\", axis=1)\n",
        "y = dataset_abalone[\"Rings\"]\n",
        "\n",
        "# Build our train and test sets (use random state to ensure same split as before)\n",
        "x_train, x_test, y_train, y_test = train_test_split(x, y, test_size=0.2, random_state=21)"
      ],
      "metadata": {
        "id": "rFfv9p8KadDl"
      },
      "execution_count": 17,
      "outputs": []
    },
    {
      "cell_type": "code",
      "source": [
        "# Fit column transformer on the training data only (doing so on test data would result in data leakage)\n",
        "ct.fit(x_train)\n",
        "\n",
        "# # Transform training and test data with normalization (MinMaxScalar) and one hot encoding (OneHotEncoder)\n",
        "x_train_normal = ct.transform(x_train)\n",
        "x_test_normal = ct.transform(x_test)"
      ],
      "metadata": {
        "id": "dtR-XxSrbXaf"
      },
      "execution_count": 19,
      "outputs": []
    },
    {
      "cell_type": "code",
      "source": [
        "# Notice the normalized/one-hot encoded shape is larger because of the extra columns\n",
        "x_train_normal.shape, x_train.shape"
      ],
      "metadata": {
        "colab": {
          "base_uri": "https://localhost:8080/"
        },
        "id": "40WjrLJFbs3w",
        "outputId": "bd36b5a9-8a1b-4b17-c867-d01df6bb16af"
      },
      "execution_count": 20,
      "outputs": [
        {
          "output_type": "execute_result",
          "data": {
            "text/plain": [
              "((3341, 10), (3341, 8))"
            ]
          },
          "metadata": {},
          "execution_count": 20
        }
      ]
    },
    {
      "cell_type": "code",
      "source": [
        "## callback\n",
        "# Create a function to implement a ModelCheckpoint callback with a specific filename \n",
        "callbacks= tf.keras.callbacks.ModelCheckpoint(filepath=(\"/content/callback/dataset_abalone_model\"), # create filepath to save model\n",
        "                                            verbose=0, # only output a limited amount of text\n",
        "                                            save_best_only=True)\n",
        "\n",
        "# Create a function to implement a Earlystop callback with loss monitor)\n",
        "Early_stop=tf.keras.callbacks.EarlyStopping( monitor='loss',\n",
        "                                             patience=10,\n",
        "                                             verbose=0)"
      ],
      "metadata": {
        "id": "wmyQwoJieOzH"
      },
      "execution_count": 55,
      "outputs": []
    },
    {
      "cell_type": "code",
      "source": [
        "# Set random seed\n",
        "tf.random.set_seed(21)\n",
        "\n",
        "# Build the model (3 layers, 100, 10, 1 units)\n",
        "dataset_abalone_model = tf.keras.Sequential([\n",
        "                                              tf.keras.layers.Dense(100),\n",
        "                                              tf.keras.layers.Dense(10),\n",
        "                                              tf.keras.layers.Dense(1)\n",
        "                                          ])\n",
        "\n",
        "# Compile the model\n",
        "dataset_abalone_model.compile(loss=tf.keras.losses.mae,\n",
        "                          optimizer=tf.keras.optimizers.Adam(),\n",
        "                          metrics=['mae'])\n",
        "\n",
        "# Fit the model for 200 epochs (same as insurance_model_2)\n",
        "history=dataset_abalone_model.fit(x_train_normal, y_train, epochs=1000, verbose=0,callbacks=[callbacks,Early_stop])\n",
        "\n",
        "\n",
        "#history=dataset_abalone_model.fit(x_train_normal, y_train, epochs=1000, verbose=0,callbacks=[tf.keras.callbacks.EarlyStopping(monitor='val_loss',patience=200,restore_best_weights=True),\n",
        "                       #tf.keras.callbacks.ReduceLROnPlateau(monitor=loss',Patience=100,verbose=1)])"
      ],
      "metadata": {
        "id": "ozwbc6oxb5Q0"
      },
      "execution_count": 47,
      "outputs": []
    },
    {
      "cell_type": "code",
      "source": [
        "mean_abs_error,model_loss=dataset_abalone_model.evaluate(x_test_normal,y_test)"
      ],
      "metadata": {
        "colab": {
          "base_uri": "https://localhost:8080/"
        },
        "id": "LCmhAf6xcU6n",
        "outputId": "cd072320-cdfa-461e-995f-f984096fdd03"
      },
      "execution_count": 29,
      "outputs": [
        {
          "output_type": "stream",
          "name": "stdout",
          "text": [
            "27/27 [==============================] - 0s 2ms/step - loss: 1.6351 - mae: 1.6351\n"
          ]
        }
      ]
    },
    {
      "cell_type": "code",
      "source": [
        "# loading gth emodel tf.keras.models.load_model('path/to/location')\n",
        "#best_model=tf.keras.models.load_model('/content/callbacks')\n",
        "#best_model.evaluate(x_test_normal,y_test)"
      ],
      "metadata": {
        "id": "hsHcL1G6jc35"
      },
      "execution_count": 56,
      "outputs": []
    },
    {
      "cell_type": "code",
      "source": [
        "# Plot the model trained for 200 total epochs loss curves\n",
        "pd.DataFrame(history.history).plot()\n",
        "plt.ylabel(\"loss\")\n",
        "plt.xlabel(\"epochs\"); # note: epochs will only show 100 since we overrid the history variable"
      ],
      "metadata": {
        "colab": {
          "base_uri": "https://localhost:8080/",
          "height": 279
        },
        "id": "Bwa-mwVCc5_2",
        "outputId": "b5f71ff1-ef68-4972-8eff-0b94b91031fe"
      },
      "execution_count": 48,
      "outputs": [
        {
          "output_type": "display_data",
          "data": {
            "text/plain": [
              "<Figure size 432x288 with 1 Axes>"
            ],
            "image/png": "[encoded data removed]"
          },
          "metadata": {
            "needs_background": "light"
          }
        }
      ]
    },
    {
      "cell_type": "code",
      "source": [
        "model_preds=dataset_abalone_model.predict(x_test_normal)"
      ],
      "metadata": {
        "id": "AS54xKzBdeqw"
      },
      "execution_count": 38,
      "outputs": []
    },
    {
      "cell_type": "code",
      "source": [
        "pred=tf.cast(model_preds, tf.int32)\n",
        "pred[:10]"
      ],
      "metadata": {
        "colab": {
          "base_uri": "https://localhost:8080/"
        },
        "id": "hAwr6pGwfy4Y",
        "outputId": "f3fb1925-16b9-434f-fb9f-a630574b9b96"
      },
      "execution_count": 44,
      "outputs": [
        {
          "output_type": "execute_result",
          "data": {
            "text/plain": [
              "<tf.Tensor: shape=(10, 1), dtype=int32, numpy=\n",
              "array([[10],\n",
              "       [10],\n",
              "       [ 8],\n",
              "       [ 8],\n",
              "       [ 7],\n",
              "       [ 8],\n",
              "       [11],\n",
              "       [11],\n",
              "       [ 9],\n",
              "       [ 7]], dtype=int32)>"
            ]
          },
          "metadata": {},
          "execution_count": 44
        }
      ]
    },
    {
      "cell_type": "code",
      "source": [
        "y_test[:10]"
      ],
      "metadata": {
        "colab": {
          "base_uri": "https://localhost:8080/"
        },
        "id": "RmhTO6Fed39g",
        "outputId": "77213e2e-03da-450e-abf9-840032555a85"
      },
      "execution_count": 32,
      "outputs": [
        {
          "output_type": "execute_result",
          "data": {
            "text/plain": [
              "1189    12\n",
              "342     12\n",
              "1581     8\n",
              "3021     9\n",
              "3325    10\n",
              "282      9\n",
              "1974    10\n",
              "1741    10\n",
              "1804    10\n",
              "267      8\n",
              "Name: Rings, dtype: int64"
            ]
          },
          "metadata": {},
          "execution_count": 32
        }
      ]
    },
    {
      "cell_type": "code",
      "source": [
        "# Save a model using the SavedModel format\n",
        "dataset_abalone_model.save('best_model_SavedModel_format.h5')"
      ],
      "metadata": {
        "id": "NsW2tfdtd6kc"
      },
      "execution_count": 33,
      "outputs": []
    },
    {
      "cell_type": "code",
      "source": [
        "# Load a model from the SavedModel format\n",
        "loaded_saved_model = tf.keras.models.load_model(\"best_model_SavedModel_format.h5\")\n",
        "loaded_saved_model.summary()"
      ],
      "metadata": {
        "colab": {
          "base_uri": "https://localhost:8080/"
        },
        "id": "31VqnmnihPz1",
        "outputId": "7b0cb91e-3901-4ff6-8b72-02e73a961de7"
      },
      "execution_count": 57,
      "outputs": [
        {
          "output_type": "stream",
          "name": "stdout",
          "text": [
            "Model: \"sequential\"\n",
            "_________________________________________________________________\n",
            " Layer (type)                Output Shape              Param #   \n",
            "=================================================================\n",
            " dense (Dense)               (None, 100)               1100      \n",
            "                                                                 \n",
            " dense_1 (Dense)             (None, 10)                1010      \n",
            "                                                                 \n",
            " dense_2 (Dense)             (None, 1)                 11        \n",
            "                                                                 \n",
            "=================================================================\n",
            "Total params: 2,121\n",
            "Trainable params: 2,121\n",
            "Non-trainable params: 0\n",
            "_________________________________________________________________\n"
          ]
        }
      ]
    },
    {
      "cell_type": "code",
      "source": [
        "# Compare model_2 with the loaded HDF5 version (should return True)\n",
        "h5_model_preds = loaded_saved_model.predict(x_test_normal)"
      ],
      "metadata": {
        "id": "uehmNY5ynkB2"
      },
      "execution_count": 58,
      "outputs": []
    },
    {
      "cell_type": "code",
      "source": [
        "np.isclose(tf.keras.metrics.mean_absolute_error(y_test, h5_model_preds.squeeze()).numpy(), tf.keras.metrics.mean_absolute_error(y_test, model_preds.squeeze()).numpy())"
      ],
      "metadata": {
        "colab": {
          "base_uri": "https://localhost:8080/"
        },
        "id": "FTL9fjJQnlgF",
        "outputId": "15b8f7a8-184f-4c03-f61f-41c7956089da"
      },
      "execution_count": 81,
      "outputs": [
        {
          "output_type": "execute_result",
          "data": {
            "text/plain": [
              "False"
            ]
          },
          "metadata": {},
          "execution_count": 81
        }
      ]
    },
    {
      "cell_type": "code",
      "source": [
        "tf.keras.metrics.mean_absolute_error(y_test, h5_model_preds.squeeze()).numpy()"
      ],
      "metadata": {
        "colab": {
          "base_uri": "https://localhost:8080/"
        },
        "id": "wcEwYvjdnrXV",
        "outputId": "a6fa5525-c6d7-4f14-8998-e6e7e972282f"
      },
      "execution_count": 73,
      "outputs": [
        {
          "output_type": "execute_result",
          "data": {
            "text/plain": [
              "1.6306567"
            ]
          },
          "metadata": {},
          "execution_count": 73
        }
      ]
    },
    {
      "cell_type": "code",
      "source": [
        "tf.keras.metrics.mean_absolute_error(y_test, model_preds.squeeze()).numpy()"
      ],
      "metadata": {
        "colab": {
          "base_uri": "https://localhost:8080/"
        },
        "id": "DNLSNnCUoCTY",
        "outputId": "ba91c373-0ebe-4a24-bba1-c51e28588402"
      },
      "execution_count": 75,
      "outputs": [
        {
          "output_type": "execute_result",
          "data": {
            "text/plain": [
              "1.6350607"
            ]
          },
          "metadata": {},
          "execution_count": 75
        }
      ]
    }
  ]
}