{
  "cells": [
    {
      "cell_type": "markdown",
      "metadata": {
        "id": "view-in-github",
        "colab_type": "text"
      },
      "source": [
        "<a href=\"https://colab.research.google.com/github/MANOJ-S-NEGI/Structured_Dataset/blob/main/coil_dataset_overfitting.ipynb\" target=\"_parent\"><img src=\"https://colab.research.google.com/assets/colab-badge.svg\" alt=\"Open In Colab\"/></a>"
      ]
    },
    {
      "cell_type": "markdown",
      "metadata": {
        "id": "pA843vswRMIp"
      },
      "source": [
        "## Protein localization sites dataset:\n",
        "####Build and train models for multi-class categorization.\n",
        "---\n",
        ">❏ Plot loss and accuracy of a trained model.\n",
        "\n",
        ">❏ Identify strategies to prevent overfitting, including augmentation and dropout.\n",
        "\n",
        ">❏ Use pretrained models (transfer learning).\n",
        "\n",
        ">❏ Extract features from pre-trained models.\n",
        "\n",
        ">❏ Ensure that inputs to a model are in the correct shape.\n",
        "\n",
        ">❏ Ensure that you can match test data to the input shape of a neural network.\n",
        "\n",
        ">❏ Ensure you can match output data of a neural network to specified input \n",
        "shape for test data.\n",
        "\n",
        ">❏ Understand batch loading of data.\n",
        "\n",
        ">❏ Use callbacks to trigger the end of training cycles.\n",
        "\n",
        ">❏ Use datasets from different sources.\n",
        "\n",
        ">❏ Use datasets in different formats, including json and csv."
      ]
    },
    {
      "cell_type": "code",
      "execution_count": 64,
      "metadata": {
        "id": "d2UihqNTRKVC"
      },
      "outputs": [],
      "source": [
        "# import function as:\n",
        "import tensorflow as tf\n",
        "import pandas as pd\n",
        "import numpy as np\n",
        "import matplotlib.pyplot as plt"
      ]
    },
    {
      "cell_type": "code",
      "execution_count": 65,
      "metadata": {
        "colab": {
          "base_uri": "https://localhost:8080/",
          "height": 35
        },
        "id": "ZtNqFN7V9UOd",
        "outputId": "723828a9-d68f-4894-a047-252b7d7a25ab"
      },
      "outputs": [
        {
          "output_type": "execute_result",
          "data": {
            "text/plain": [
              "'2.8.0'"
            ],
            "application/vnd.google.colaboratory.intrinsic+json": {
              "type": "string"
            }
          },
          "metadata": {},
          "execution_count": 65
        }
      ],
      "source": [
        "tf.__version__"
      ]
    },
    {
      "cell_type": "code",
      "execution_count": 105,
      "metadata": {
        "colab": {
          "base_uri": "https://localhost:8080/"
        },
        "id": "8reDT6tV9X95",
        "outputId": "3bee999e-9da0-477b-c308-3c164da2a49f"
      },
      "outputs": [
        {
          "output_type": "stream",
          "name": "stdout",
          "text": [
            "GPU 0: Tesla T4 (UUID: GPU-b62941f1-dbf9-7d80-d14f-9dd599b44635)\n"
          ]
        }
      ],
      "source": [
        "!nvidia-smi  -L"
      ]
    },
    {
      "cell_type": "code",
      "execution_count": 107,
      "metadata": {
        "colab": {
          "base_uri": "https://localhost:8080/",
          "height": 206
        },
        "id": "UuXbfCmAV3HO",
        "outputId": "077cb069-7525-45bd-e0f7-afc21488d212"
      },
      "outputs": [
        {
          "output_type": "execute_result",
          "data": {
            "text/plain": [
              "      0     1     2    3     4     5     6   7\n",
              "0  0.49  0.29  0.48  0.5  0.56  0.24  0.35  cp\n",
              "1  0.07  0.40  0.48  0.5  0.54  0.35  0.44  cp\n",
              "2  0.56  0.40  0.48  0.5  0.49  0.37  0.46  cp\n",
              "3  0.59  0.49  0.48  0.5  0.52  0.45  0.36  cp\n",
              "4  0.23  0.32  0.48  0.5  0.55  0.25  0.35  cp"
            ],
            "text/html": [
              "\n",
              "  <div id=\"df-34758567-4d5f-4303-82dc-fd70d85c3a48\">\n",
              "    <div class=\"colab-df-container\">\n",
              "      <div>\n",
              "<style scoped>\n",
              "    .dataframe tbody tr th:only-of-type {\n",
              "        vertical-align: middle;\n",
              "    }\n",
              "\n",
              "    .dataframe tbody tr th {\n",
              "        vertical-align: top;\n",
              "    }\n",
              "\n",
              "    .dataframe thead th {\n",
              "        text-align: right;\n",
              "    }\n",
              "</style>\n",
              "<table border=\"1\" class=\"dataframe\">\n",
              "  <thead>\n",
              "    <tr style=\"text-align: right;\">\n",
              "      <th></th>\n",
              "      <th>0</th>\n",
              "      <th>1</th>\n",
              "      <th>2</th>\n",
              "      <th>3</th>\n",
              "      <th>4</th>\n",
              "      <th>5</th>\n",
              "      <th>6</th>\n",
              "      <th>7</th>\n",
              "    </tr>\n",
              "  </thead>\n",
              "  <tbody>\n",
              "    <tr>\n",
              "      <th>0</th>\n",
              "      <td>0.49</td>\n",
              "      <td>0.29</td>\n",
              "      <td>0.48</td>\n",
              "      <td>0.5</td>\n",
              "      <td>0.56</td>\n",
              "      <td>0.24</td>\n",
              "      <td>0.35</td>\n",
              "      <td>cp</td>\n",
              "    </tr>\n",
              "    <tr>\n",
              "      <th>1</th>\n",
              "      <td>0.07</td>\n",
              "      <td>0.40</td>\n",
              "      <td>0.48</td>\n",
              "      <td>0.5</td>\n",
              "      <td>0.54</td>\n",
              "      <td>0.35</td>\n",
              "      <td>0.44</td>\n",
              "      <td>cp</td>\n",
              "    </tr>\n",
              "    <tr>\n",
              "      <th>2</th>\n",
              "      <td>0.56</td>\n",
              "      <td>0.40</td>\n",
              "      <td>0.48</td>\n",
              "      <td>0.5</td>\n",
              "      <td>0.49</td>\n",
              "      <td>0.37</td>\n",
              "      <td>0.46</td>\n",
              "      <td>cp</td>\n",
              "    </tr>\n",
              "    <tr>\n",
              "      <th>3</th>\n",
              "      <td>0.59</td>\n",
              "      <td>0.49</td>\n",
              "      <td>0.48</td>\n",
              "      <td>0.5</td>\n",
              "      <td>0.52</td>\n",
              "      <td>0.45</td>\n",
              "      <td>0.36</td>\n",
              "      <td>cp</td>\n",
              "    </tr>\n",
              "    <tr>\n",
              "      <th>4</th>\n",
              "      <td>0.23</td>\n",
              "      <td>0.32</td>\n",
              "      <td>0.48</td>\n",
              "      <td>0.5</td>\n",
              "      <td>0.55</td>\n",
              "      <td>0.25</td>\n",
              "      <td>0.35</td>\n",
              "      <td>cp</td>\n",
              "    </tr>\n",
              "  </tbody>\n",
              "</table>\n",
              "</div>\n",
              "      <button class=\"colab-df-convert\" onclick=\"convertToInteractive('df-34758567-4d5f-4303-82dc-fd70d85c3a48')\"\n",
              "              title=\"Convert this dataframe to an interactive table.\"\n",
              "              style=\"display:none;\">\n",
              "        \n",
              "  <svg xmlns=\"http://www.w3.org/2000/svg\" height=\"24px\"viewBox=\"0 0 24 24\"\n",
              "       width=\"24px\">\n",
              "    <path d=\"M0 0h24v24H0V0z\" fill=\"none\"/>\n",
              "    <path d=\"M18.56 5.44l.94 2.06.94-2.06 2.06-.94-2.06-.94-.94-2.06-.94 2.06-2.06.94zm-11 1L8.5 8.5l.94-2.06 2.06-.94-2.06-.94L8.5 2.5l-.94 2.06-2.06.94zm10 10l.94 2.06.94-2.06 2.06-.94-2.06-.94-.94-2.06-.94 2.06-2.06.94z\"/><path d=\"M17.41 7.96l-1.37-1.37c-.4-.4-.92-.59-1.43-.59-.52 0-1.04.2-1.43.59L10.3 9.45l-7.72 7.72c-.78.78-.78 2.05 0 2.83L4 21.41c.39.39.9.59 1.41.59.51 0 1.02-.2 1.41-.59l7.78-7.78 2.81-2.81c.8-.78.8-2.07 0-2.86zM5.41 20L4 18.59l7.72-7.72 1.47 1.35L5.41 20z\"/>\n",
              "  </svg>\n",
              "      </button>\n",
              "      \n",
              "  <style>\n",
              "    .colab-df-container {\n",
              "      display:flex;\n",
              "      flex-wrap:wrap;\n",
              "      gap: 12px;\n",
              "    }\n",
              "\n",
              "    .colab-df-convert {\n",
              "      background-color: #E8F0FE;\n",
              "      border: none;\n",
              "      border-radius: 50%;\n",
              "      cursor: pointer;\n",
              "      display: none;\n",
              "      fill: #1967D2;\n",
              "      height: 32px;\n",
              "      padding: 0 0 0 0;\n",
              "      width: 32px;\n",
              "    }\n",
              "\n",
              "    .colab-df-convert:hover {\n",
              "      background-color: #E2EBFA;\n",
              "      box-shadow: 0px 1px 2px rgba(60, 64, 67, 0.3), 0px 1px 3px 1px rgba(60, 64, 67, 0.15);\n",
              "      fill: #174EA6;\n",
              "    }\n",
              "\n",
              "    [theme=dark] .colab-df-convert {\n",
              "      background-color: #3B4455;\n",
              "      fill: #D2E3FC;\n",
              "    }\n",
              "\n",
              "    [theme=dark] .colab-df-convert:hover {\n",
              "      background-color: #434B5C;\n",
              "      box-shadow: 0px 1px 3px 1px rgba(0, 0, 0, 0.15);\n",
              "      filter: drop-shadow(0px 1px 2px rgba(0, 0, 0, 0.3));\n",
              "      fill: #FFFFFF;\n",
              "    }\n",
              "  </style>\n",
              "\n",
              "      <script>\n",
              "        const buttonEl =\n",
              "          document.querySelector('#df-34758567-4d5f-4303-82dc-fd70d85c3a48 button.colab-df-convert');\n",
              "        buttonEl.style.display =\n",
              "          google.colab.kernel.accessAllowed ? 'block' : 'none';\n",
              "\n",
              "        async function convertToInteractive(key) {\n",
              "          const element = document.querySelector('#df-34758567-4d5f-4303-82dc-fd70d85c3a48');\n",
              "          const dataTable =\n",
              "            await google.colab.kernel.invokeFunction('convertToInteractive',\n",
              "                                                     [key], {});\n",
              "          if (!dataTable) return;\n",
              "\n",
              "          const docLinkHtml = 'Like what you see? Visit the ' +\n",
              "            '<a target=\"_blank\" href=https://colab.research.google.com/notebooks/data_table.ipynb>data table notebook</a>'\n",
              "            + ' to learn more about interactive tables.';\n",
              "          element.innerHTML = '';\n",
              "          dataTable['output_type'] = 'display_data';\n",
              "          await google.colab.output.renderOutput(dataTable, element);\n",
              "          const docLink = document.createElement('div');\n",
              "          docLink.innerHTML = docLinkHtml;\n",
              "          element.appendChild(docLink);\n",
              "        }\n",
              "      </script>\n",
              "    </div>\n",
              "  </div>\n",
              "  "
            ]
          },
          "metadata": {},
          "execution_count": 107
        }
      ],
      "source": [
        "## calling the data file :\n",
        "dataset=pd.read_csv(\"/content/coil_file.csv\",header=None)\n",
        "dataset.head()"
      ]
    },
    {
      "cell_type": "code",
      "execution_count": 108,
      "metadata": {
        "colab": {
          "base_uri": "https://localhost:8080/"
        },
        "id": "rJ0MHn_ZbUUx",
        "outputId": "903a1944-5d25-4f7a-cfab-2a635069ae19"
      },
      "outputs": [
        {
          "output_type": "stream",
          "name": "stdout",
          "text": [
            "              0         1         2         3         4         5         6\n",
            "count  336.0000  336.0000  336.0000  336.0000  336.0000  336.0000  336.0000\n",
            "mean     0.5001    0.5000    0.4955    0.5015    0.5000    0.5002    0.4997\n",
            "std      0.1946    0.1482    0.0885    0.0273    0.1224    0.2158    0.2094\n",
            "min      0.0000    0.1600    0.4800    0.5000    0.0000    0.0300    0.0000\n",
            "25%      0.3400    0.4000    0.4800    0.5000    0.4200    0.3300    0.3500\n",
            "50%      0.5000    0.4700    0.4800    0.5000    0.4950    0.4550    0.4300\n",
            "75%      0.6625    0.5700    0.4800    0.5000    0.5700    0.7100    0.7100\n",
            "max      0.8900    1.0000    1.0000    1.0000    0.8800    1.0000    0.9900\n"
          ]
        }
      ],
      "source": [
        "from pandas import set_option\n",
        "# describe the dataset\n",
        "set_option('precision', 4)\n",
        "print(dataset.describe())"
      ]
    },
    {
      "cell_type": "code",
      "execution_count": 109,
      "metadata": {
        "colab": {
          "base_uri": "https://localhost:8080/"
        },
        "id": "1e4zOJxOeHpi",
        "outputId": "ccb9a8df-f8fa-4a70-d6f8-f543af5a6933"
      },
      "outputs": [
        {
          "output_type": "stream",
          "name": "stdout",
          "text": [
            "Counter({'cp': 143, 'im': 77, 'pp': 52, 'imU': 35, 'om': 20, 'omL': 5, 'imS': 2, 'imL': 2})\n",
            "Class=cp, Count=143, Percentage=42.56%\n",
            "Class=im, Count=77, Percentage=22.92%\n",
            "Class=imS, Count=2, Percentage=0.60%\n",
            "Class=imL, Count=2, Percentage=0.60%\n",
            "Class=imU, Count=35, Percentage=10.42%\n",
            "Class=om, Count=20, Percentage=5.95%\n",
            "Class=omL, Count=5, Percentage=1.49%\n",
            "Class=pp, Count=52, Percentage=15.48%\n"
          ]
        }
      ],
      "source": [
        "from collections import Counter  #Counter is a sub-class that is used to count hashable objects. It implicitly creates a hash table of an iterable when invoked.\n",
        "\n",
        "target=dataset.values[:,-1]\n",
        "Counter=Counter(target)\n",
        "print(Counter)\n",
        "\n",
        "## itrerating over counter \n",
        "for k,v in Counter.items():\n",
        "    percent = v / len(target) * 100\n",
        "    print(f'Class={k}, Count={v}, Percentage=%.2f%%'%( percent))"
      ]
    },
    {
      "cell_type": "code",
      "execution_count": 110,
      "metadata": {
        "colab": {
          "base_uri": "https://localhost:8080/",
          "height": 607
        },
        "id": "oeEdL4dMpcYl",
        "outputId": "ba9c94e8-12aa-4b3e-c66f-fb958c849ffa"
      },
      "outputs": [
        {
          "output_type": "display_data",
          "data": {
            "text/plain": [
              "<Figure size 1440x720 with 9 Axes>"
            ],
            "image/png": "[encoded data removed]"
          },
          "metadata": {
            "needs_background": "light"
          }
        }
      ],
      "source": [
        "# create a histogram plot of each variable\n",
        "dataset.hist(figsize=(20,10))\n",
        "plt.show()"
      ]
    },
    {
      "cell_type": "markdown",
      "metadata": {
        "id": "heF-0wmmmCDH"
      },
      "source": [
        "###Setting the data for tain and test"
      ]
    },
    {
      "cell_type": "code",
      "execution_count": 113,
      "metadata": {
        "colab": {
          "base_uri": "https://localhost:8080/"
        },
        "id": "66LQtzzIEDVZ",
        "outputId": "ad41c351-36d6-4688-8d25-63f94072d051"
      },
      "outputs": [
        {
          "output_type": "execute_result",
          "data": {
            "text/plain": [
              "(LabelEncoder(),\n",
              " array([0, 0, 0, 0, 0, 0, 0, 0, 0, 0, 0, 0, 0, 0, 0, 0, 0, 0, 0, 0, 0, 0,\n",
              "        0, 0, 0, 0, 0, 0, 0, 0, 0, 0, 0, 0, 0, 0, 0, 0, 0, 0, 0, 0, 0, 0,\n",
              "        0, 0, 0, 0, 0, 0, 0, 0, 0, 0, 0, 0, 0, 0, 0, 0, 0, 0, 0, 0, 0, 0,\n",
              "        0, 0, 0, 0, 0, 0, 0, 0, 0, 0, 0, 0, 0, 0, 0, 0, 0, 0, 0, 0, 0, 0,\n",
              "        0, 0, 0, 0, 0, 0, 0, 0, 0, 0, 0, 0, 0, 0, 0, 0, 0, 0, 0, 0, 0, 0,\n",
              "        0, 0, 0, 0, 0, 0, 0, 0, 0, 0, 0, 0, 0, 0, 0, 0, 0, 0, 0, 0, 0, 0,\n",
              "        0, 0, 0, 0, 0, 0, 0, 0, 0, 0, 0, 1, 1, 1, 1, 1, 1, 1, 1, 1, 1, 1,\n",
              "        1, 1, 1, 1, 1, 1, 1, 1, 1, 1, 1, 1, 1, 1, 1, 1, 1, 1, 1, 1, 1, 1,\n",
              "        1, 1, 1, 1, 1, 1, 1, 1, 1, 1, 1, 1, 1, 1, 1, 1, 1, 1, 1, 1, 1, 1,\n",
              "        1, 1, 1, 1, 1, 1, 1, 1, 1, 1, 1, 1, 1, 1, 1, 1, 1, 1, 1, 1, 1, 1,\n",
              "        3, 3, 2, 2, 4, 4, 4, 4, 4, 4, 4, 4, 4, 4, 4, 4, 4, 4, 4, 4, 4, 4,\n",
              "        4, 4, 4, 4, 4, 4, 4, 4, 4, 4, 4, 4, 4, 4, 4, 4, 4, 5, 5, 5, 5, 5,\n",
              "        5, 5, 5, 5, 5, 5, 5, 5, 5, 5, 5, 5, 5, 5, 5, 6, 6, 6, 6, 6, 7, 7,\n",
              "        7, 7, 7, 7, 7, 7, 7, 7, 7, 7, 7, 7, 7, 7, 7, 7, 7, 7, 7, 7, 7, 7,\n",
              "        7, 7, 7, 7, 7, 7, 7, 7, 7, 7, 7, 7, 7, 7, 7, 7, 7, 7, 7, 7, 7, 7,\n",
              "        7, 7, 7, 7, 7, 7]))"
            ]
          },
          "metadata": {},
          "execution_count": 113
        }
      ],
      "source": [
        "from sklearn.preprocessing import LabelEncoder\n",
        "\n",
        "label=dataset.values[:,-1]\n",
        "# encode class values as integers\n",
        "encoder = LabelEncoder()\n",
        "encoder.fit(label)\n",
        "encoded_Y = encoder.transform(label)\n",
        "\n",
        "encoder,encoded_Y"
      ]
    },
    {
      "cell_type": "code",
      "execution_count": 114,
      "metadata": {
        "colab": {
          "base_uri": "https://localhost:8080/"
        },
        "id": "uyCy8tFkWcCG",
        "outputId": "13a08e9a-aa21-4070-a614-18370d525c57"
      },
      "outputs": [
        {
          "output_type": "execute_result",
          "data": {
            "text/plain": [
              "(array([[1., 0., 0., 0., 0., 0., 0., 0.],\n",
              "        [1., 0., 0., 0., 0., 0., 0., 0.]]), (336, 8))"
            ]
          },
          "metadata": {},
          "execution_count": 114
        }
      ],
      "source": [
        "## convert the data into one hot endcoder to label which need to be predicted:\n",
        "from sklearn.preprocessing import OneHotEncoder\n",
        "\n",
        "label_reshape=tf.reshape(label,[-1,1])\n",
        "OneHotEncode= OneHotEncoder(sparse=False)\n",
        "labels= OneHotEncode.fit_transform(label_reshape)\n",
        "\n",
        "labels[:2],labels.shape"
      ]
    },
    {
      "cell_type": "code",
      "execution_count": 115,
      "metadata": {
        "colab": {
          "base_uri": "https://localhost:8080/"
        },
        "id": "BQfFowrWpt1Z",
        "outputId": "9b7e1dee-9734-4cf3-e4fd-8d5699cf5198"
      },
      "outputs": [
        {
          "output_type": "stream",
          "name": "stdout",
          "text": [
            "(336, 7) (336, 8)\n"
          ]
        },
        {
          "output_type": "execute_result",
          "data": {
            "text/plain": [
              "(array([0.49, 0.29, 0.48, 0.5 , 0.56, 0.24, 0.35]),\n",
              " array([1., 0., 0., 0., 0., 0., 0., 0.]))"
            ]
          },
          "metadata": {},
          "execution_count": 115
        }
      ],
      "source": [
        "# retrieve numpy array:\n",
        "feature_data= dataset.values[:, :-1]\n",
        "# split into input and output elements:\n",
        "\n",
        "x=feature_data.astype(float)\n",
        "y= labels\n",
        "print(x.shape,y.shape)\n",
        "x[0],y[0]"
      ]
    },
    {
      "cell_type": "markdown",
      "metadata": {
        "id": "8G1oqs2ZmIq_"
      },
      "source": [
        "### Spliting the data for train and Test:"
      ]
    },
    {
      "cell_type": "code",
      "execution_count": 116,
      "metadata": {
        "colab": {
          "base_uri": "https://localhost:8080/"
        },
        "id": "5MzcxZ6pr_Vq",
        "outputId": "276c42c7-c6a2-49f2-fc9c-2e88168cabdb"
      },
      "outputs": [
        {
          "output_type": "stream",
          "name": "stdout",
          "text": [
            "(268, 7) (268, 8) (68, 7) (68, 8)\n",
            "float64 float64 float64 float64\n"
          ]
        },
        {
          "output_type": "execute_result",
          "data": {
            "text/plain": [
              "(array([0.49, 0.29, 0.48, 0.5 , 0.56, 0.24, 0.35]),\n",
              " array([1., 0., 0., 0., 0., 0., 0., 0.]))"
            ]
          },
          "metadata": {},
          "execution_count": 116
        }
      ],
      "source": [
        "#split into input and output elements\n",
        "split_data=int(len(dataset)*.80)\n",
        "\n",
        "x_train,y_train = x[:split_data],y[:split_data]\n",
        "x_test,y_test   = x[split_data:],y[split_data:]\n",
        "\n",
        "# Notice the normalized/one-hot encoded shape is larger because of the extra columns\n",
        "\n",
        "print(x_train.shape, y_train.shape,x_test.shape,y_test.shape)\n",
        "print(x_train.dtype, y_train.dtype,x_test.dtype,y_test.dtype)\n",
        "x_train[0],y_train[0]"
      ]
    },
    {
      "cell_type": "markdown",
      "metadata": {
        "id": "TcVQwpnfmi8F"
      },
      "source": [
        "### Setting the callback function:"
      ]
    },
    {
      "cell_type": "code",
      "execution_count": 117,
      "metadata": {
        "id": "gEuBbd-EmdWa"
      },
      "outputs": [],
      "source": [
        "## callback\n",
        "# Create a function to implement a ModelCheckpoint callback with a specific filename \n",
        "callbacks= tf.keras.callbacks.ModelCheckpoint(filepath=(\"/content/callback/dataset_banknote_model\"), # create filepath to save model\n",
        "                                            verbose=0, # only output a limited amount of text\n",
        "                                            save_best_only=True)\n",
        "\n",
        "# Create a function to implement a Earlystop callback with loss monitor)\n",
        "Early_stop=tf.keras.callbacks.EarlyStopping( monitor='loss',\n",
        "                                             patience=10,\n",
        "                                             verbose=0)"
      ]
    },
    {
      "cell_type": "markdown",
      "metadata": {
        "id": "kRB3vJIhr1p2"
      },
      "source": [
        "###Build TensorFlow input pipelines:"
      ]
    },
    {
      "cell_type": "code",
      "execution_count": 118,
      "metadata": {
        "colab": {
          "base_uri": "https://localhost:8080/"
        },
        "id": "P8UuRXDjm2KZ",
        "outputId": "09d52fa0-7c1d-4853-d8ea-5fa26cde1139"
      },
      "outputs": [
        {
          "output_type": "execute_result",
          "data": {
            "text/plain": [
              "(<PrefetchDataset element_spec=(TensorSpec(shape=(None, 7), dtype=tf.float64, name=None), TensorSpec(shape=(None, 8), dtype=tf.float64, name=None))>,\n",
              " <PrefetchDataset element_spec=(TensorSpec(shape=(None, 7), dtype=tf.float64, name=None), TensorSpec(shape=(None, 8), dtype=tf.float64, name=None))>)"
            ]
          },
          "metadata": {},
          "execution_count": 118
        }
      ],
      "source": [
        "## pipeline\n",
        "train_dataset = tf.data.Dataset.from_tensor_slices((x_train, y_train)).batch(32).prefetch(tf.data.AUTOTUNE)\n",
        "test_dataset=   tf.data.Dataset.from_tensor_slices((x_test,y_test)).batch(32).prefetch(tf.data.AUTOTUNE)\n",
        "\n",
        "train_dataset,test_dataset"
      ]
    },
    {
      "cell_type": "code",
      "execution_count": 119,
      "metadata": {
        "colab": {
          "base_uri": "https://localhost:8080/"
        },
        "id": "CsSruEePQrve",
        "outputId": "dca63eed-bc7b-43cf-d664-ccf8a57a0858"
      },
      "outputs": [
        {
          "output_type": "stream",
          "name": "stdout",
          "text": [
            "Epoch 1/100\n",
            "9/9 [==============================] - 0s 3ms/step - loss: 0.6686 - accuracy: 0.2985\n",
            "Epoch 2/100\n",
            "9/9 [==============================] - 0s 3ms/step - loss: 0.5903 - accuracy: 0.5336\n",
            "Epoch 3/100\n",
            "9/9 [==============================] - 0s 3ms/step - loss: 0.4946 - accuracy: 0.5336\n",
            "Epoch 4/100\n",
            "9/9 [==============================] - 0s 3ms/step - loss: 0.3880 - accuracy: 0.5336\n",
            "Epoch 5/100\n",
            "9/9 [==============================] - 0s 3ms/step - loss: 0.3109 - accuracy: 0.5336\n",
            "Epoch 6/100\n",
            "9/9 [==============================] - 0s 4ms/step - loss: 0.2740 - accuracy: 0.5336\n",
            "Epoch 7/100\n",
            "9/9 [==============================] - 0s 3ms/step - loss: 0.2574 - accuracy: 0.5336\n",
            "Epoch 8/100\n",
            "9/9 [==============================] - 0s 3ms/step - loss: 0.2491 - accuracy: 0.5336\n",
            "Epoch 9/100\n",
            "9/9 [==============================] - 0s 3ms/step - loss: 0.2446 - accuracy: 0.5336\n",
            "Epoch 10/100\n",
            "9/9 [==============================] - 0s 3ms/step - loss: 0.2411 - accuracy: 0.5336\n",
            "Epoch 11/100\n",
            "9/9 [==============================] - 0s 3ms/step - loss: 0.2369 - accuracy: 0.5336\n",
            "Epoch 12/100\n",
            "9/9 [==============================] - 0s 3ms/step - loss: 0.2321 - accuracy: 0.5522\n",
            "Epoch 13/100\n",
            "9/9 [==============================] - 0s 3ms/step - loss: 0.2269 - accuracy: 0.6007\n",
            "Epoch 14/100\n",
            "9/9 [==============================] - 0s 3ms/step - loss: 0.2214 - accuracy: 0.6530\n",
            "Epoch 15/100\n",
            "9/9 [==============================] - 0s 3ms/step - loss: 0.2155 - accuracy: 0.6903\n",
            "Epoch 16/100\n",
            "9/9 [==============================] - 0s 3ms/step - loss: 0.2091 - accuracy: 0.7090\n",
            "Epoch 17/100\n",
            "9/9 [==============================] - 0s 3ms/step - loss: 0.2021 - accuracy: 0.7313\n",
            "Epoch 18/100\n",
            "9/9 [==============================] - 0s 4ms/step - loss: 0.1945 - accuracy: 0.7463\n",
            "Epoch 19/100\n",
            "9/9 [==============================] - 0s 3ms/step - loss: 0.1884 - accuracy: 0.7649\n",
            "Epoch 20/100\n",
            "9/9 [==============================] - 0s 3ms/step - loss: 0.1823 - accuracy: 0.7687\n",
            "Epoch 21/100\n",
            "9/9 [==============================] - 0s 3ms/step - loss: 0.1760 - accuracy: 0.7799\n",
            "Epoch 22/100\n",
            "9/9 [==============================] - 0s 3ms/step - loss: 0.1704 - accuracy: 0.7799\n",
            "Epoch 23/100\n",
            "9/9 [==============================] - 0s 3ms/step - loss: 0.1652 - accuracy: 0.7836\n",
            "Epoch 24/100\n",
            "9/9 [==============================] - 0s 3ms/step - loss: 0.1608 - accuracy: 0.7873\n",
            "Epoch 25/100\n",
            "9/9 [==============================] - 0s 3ms/step - loss: 0.1568 - accuracy: 0.7910\n",
            "Epoch 26/100\n",
            "9/9 [==============================] - 0s 3ms/step - loss: 0.1533 - accuracy: 0.7948\n",
            "Epoch 27/100\n",
            "9/9 [==============================] - 0s 3ms/step - loss: 0.1504 - accuracy: 0.7985\n",
            "Epoch 28/100\n",
            "9/9 [==============================] - 0s 3ms/step - loss: 0.1471 - accuracy: 0.8022\n",
            "Epoch 29/100\n",
            "9/9 [==============================] - 0s 3ms/step - loss: 0.1448 - accuracy: 0.8022\n",
            "Epoch 30/100\n",
            "9/9 [==============================] - 0s 3ms/step - loss: 0.1425 - accuracy: 0.8022\n",
            "Epoch 31/100\n",
            "9/9 [==============================] - 0s 3ms/step - loss: 0.1404 - accuracy: 0.8022\n",
            "Epoch 32/100\n",
            "9/9 [==============================] - 0s 3ms/step - loss: 0.1384 - accuracy: 0.7985\n",
            "Epoch 33/100\n",
            "9/9 [==============================] - 0s 4ms/step - loss: 0.1366 - accuracy: 0.7985\n",
            "Epoch 34/100\n",
            "9/9 [==============================] - 0s 3ms/step - loss: 0.1349 - accuracy: 0.7985\n",
            "Epoch 35/100\n",
            "9/9 [==============================] - 0s 3ms/step - loss: 0.1333 - accuracy: 0.7985\n",
            "Epoch 36/100\n",
            "9/9 [==============================] - 0s 3ms/step - loss: 0.1318 - accuracy: 0.7985\n",
            "Epoch 37/100\n",
            "9/9 [==============================] - 0s 3ms/step - loss: 0.1303 - accuracy: 0.8022\n",
            "Epoch 38/100\n",
            "9/9 [==============================] - 0s 3ms/step - loss: 0.1288 - accuracy: 0.8022\n",
            "Epoch 39/100\n",
            "9/9 [==============================] - 0s 3ms/step - loss: 0.1276 - accuracy: 0.8022\n",
            "Epoch 40/100\n",
            "9/9 [==============================] - 0s 3ms/step - loss: 0.1260 - accuracy: 0.8022\n",
            "Epoch 41/100\n",
            "9/9 [==============================] - 0s 3ms/step - loss: 0.1246 - accuracy: 0.8022\n",
            "Epoch 42/100\n",
            "9/9 [==============================] - 0s 3ms/step - loss: 0.1232 - accuracy: 0.8060\n",
            "Epoch 43/100\n",
            "9/9 [==============================] - 0s 3ms/step - loss: 0.1219 - accuracy: 0.8060\n",
            "Epoch 44/100\n",
            "9/9 [==============================] - 0s 3ms/step - loss: 0.1205 - accuracy: 0.8097\n",
            "Epoch 45/100\n",
            "9/9 [==============================] - 0s 3ms/step - loss: 0.1191 - accuracy: 0.8097\n",
            "Epoch 46/100\n",
            "9/9 [==============================] - 0s 4ms/step - loss: 0.1175 - accuracy: 0.8134\n",
            "Epoch 47/100\n",
            "9/9 [==============================] - 0s 3ms/step - loss: 0.1164 - accuracy: 0.8172\n",
            "Epoch 48/100\n",
            "9/9 [==============================] - 0s 3ms/step - loss: 0.1152 - accuracy: 0.8246\n",
            "Epoch 49/100\n",
            "9/9 [==============================] - 0s 3ms/step - loss: 0.1139 - accuracy: 0.8284\n",
            "Epoch 50/100\n",
            "9/9 [==============================] - 0s 3ms/step - loss: 0.1125 - accuracy: 0.8284\n",
            "Epoch 51/100\n",
            "9/9 [==============================] - 0s 3ms/step - loss: 0.1113 - accuracy: 0.8284\n",
            "Epoch 52/100\n",
            "9/9 [==============================] - 0s 3ms/step - loss: 0.1099 - accuracy: 0.8284\n",
            "Epoch 53/100\n",
            "9/9 [==============================] - 0s 3ms/step - loss: 0.1084 - accuracy: 0.8246\n",
            "Epoch 54/100\n",
            "9/9 [==============================] - 0s 4ms/step - loss: 0.1073 - accuracy: 0.8284\n",
            "Epoch 55/100\n",
            "9/9 [==============================] - 0s 3ms/step - loss: 0.1061 - accuracy: 0.8396\n",
            "Epoch 56/100\n",
            "9/9 [==============================] - 0s 3ms/step - loss: 0.1049 - accuracy: 0.8433\n",
            "Epoch 57/100\n",
            "9/9 [==============================] - 0s 3ms/step - loss: 0.1037 - accuracy: 0.8470\n",
            "Epoch 58/100\n",
            "9/9 [==============================] - 0s 3ms/step - loss: 0.1026 - accuracy: 0.8470\n",
            "Epoch 59/100\n",
            "9/9 [==============================] - 0s 4ms/step - loss: 0.1015 - accuracy: 0.8545\n",
            "Epoch 60/100\n",
            "9/9 [==============================] - 0s 3ms/step - loss: 0.1003 - accuracy: 0.8582\n",
            "Epoch 61/100\n",
            "9/9 [==============================] - 0s 3ms/step - loss: 0.0994 - accuracy: 0.8582\n",
            "Epoch 62/100\n",
            "9/9 [==============================] - 0s 3ms/step - loss: 0.0983 - accuracy: 0.8582\n",
            "Epoch 63/100\n",
            "9/9 [==============================] - 0s 3ms/step - loss: 0.0974 - accuracy: 0.8582\n",
            "Epoch 64/100\n",
            "9/9 [==============================] - 0s 3ms/step - loss: 0.0965 - accuracy: 0.8619\n",
            "Epoch 65/100\n",
            "9/9 [==============================] - 0s 3ms/step - loss: 0.0956 - accuracy: 0.8619\n",
            "Epoch 66/100\n",
            "9/9 [==============================] - 0s 3ms/step - loss: 0.0947 - accuracy: 0.8694\n",
            "Epoch 67/100\n",
            "9/9 [==============================] - 0s 3ms/step - loss: 0.0939 - accuracy: 0.8731\n",
            "Epoch 68/100\n",
            "9/9 [==============================] - 0s 3ms/step - loss: 0.0931 - accuracy: 0.8731\n",
            "Epoch 69/100\n",
            "9/9 [==============================] - 0s 3ms/step - loss: 0.0923 - accuracy: 0.8769\n",
            "Epoch 70/100\n",
            "9/9 [==============================] - 0s 3ms/step - loss: 0.0915 - accuracy: 0.8769\n",
            "Epoch 71/100\n",
            "9/9 [==============================] - 0s 3ms/step - loss: 0.0909 - accuracy: 0.8769\n",
            "Epoch 72/100\n",
            "9/9 [==============================] - 0s 3ms/step - loss: 0.0901 - accuracy: 0.8731\n",
            "Epoch 73/100\n",
            "9/9 [==============================] - 0s 3ms/step - loss: 0.0895 - accuracy: 0.8731\n",
            "Epoch 74/100\n",
            "9/9 [==============================] - 0s 3ms/step - loss: 0.0889 - accuracy: 0.8731\n",
            "Epoch 75/100\n",
            "9/9 [==============================] - 0s 3ms/step - loss: 0.0882 - accuracy: 0.8731\n",
            "Epoch 76/100\n",
            "9/9 [==============================] - 0s 3ms/step - loss: 0.0876 - accuracy: 0.8694\n",
            "Epoch 77/100\n",
            "9/9 [==============================] - 0s 3ms/step - loss: 0.0871 - accuracy: 0.8731\n",
            "Epoch 78/100\n",
            "9/9 [==============================] - 0s 3ms/step - loss: 0.0865 - accuracy: 0.8769\n",
            "Epoch 79/100\n",
            "9/9 [==============================] - 0s 3ms/step - loss: 0.0860 - accuracy: 0.8769\n",
            "Epoch 80/100\n",
            "9/9 [==============================] - 0s 3ms/step - loss: 0.0855 - accuracy: 0.8806\n",
            "Epoch 81/100\n",
            "9/9 [==============================] - 0s 3ms/step - loss: 0.0850 - accuracy: 0.8806\n",
            "Epoch 82/100\n",
            "9/9 [==============================] - 0s 3ms/step - loss: 0.0845 - accuracy: 0.8806\n",
            "Epoch 83/100\n",
            "9/9 [==============================] - 0s 4ms/step - loss: 0.0841 - accuracy: 0.8806\n",
            "Epoch 84/100\n",
            "9/9 [==============================] - 0s 3ms/step - loss: 0.0837 - accuracy: 0.8769\n",
            "Epoch 85/100\n",
            "9/9 [==============================] - 0s 3ms/step - loss: 0.0832 - accuracy: 0.8731\n",
            "Epoch 86/100\n",
            "9/9 [==============================] - 0s 3ms/step - loss: 0.0829 - accuracy: 0.8731\n",
            "Epoch 87/100\n",
            "9/9 [==============================] - 0s 3ms/step - loss: 0.0825 - accuracy: 0.8731\n",
            "Epoch 88/100\n",
            "9/9 [==============================] - 0s 3ms/step - loss: 0.0821 - accuracy: 0.8731\n",
            "Epoch 89/100\n",
            "9/9 [==============================] - 0s 3ms/step - loss: 0.0817 - accuracy: 0.8769\n",
            "Epoch 90/100\n",
            "9/9 [==============================] - 0s 3ms/step - loss: 0.0814 - accuracy: 0.8769\n",
            "Epoch 91/100\n",
            "9/9 [==============================] - 0s 3ms/step - loss: 0.0810 - accuracy: 0.8769\n",
            "Epoch 92/100\n",
            "9/9 [==============================] - 0s 3ms/step - loss: 0.0807 - accuracy: 0.8769\n",
            "Epoch 93/100\n",
            "9/9 [==============================] - 0s 3ms/step - loss: 0.0804 - accuracy: 0.8806\n",
            "Epoch 94/100\n",
            "9/9 [==============================] - 0s 3ms/step - loss: 0.0802 - accuracy: 0.8806\n",
            "Epoch 95/100\n",
            "9/9 [==============================] - 0s 3ms/step - loss: 0.0798 - accuracy: 0.8806\n",
            "Epoch 96/100\n",
            "9/9 [==============================] - 0s 3ms/step - loss: 0.0795 - accuracy: 0.8806\n",
            "Epoch 97/100\n",
            "9/9 [==============================] - 0s 3ms/step - loss: 0.0793 - accuracy: 0.8806\n",
            "Epoch 98/100\n",
            "9/9 [==============================] - 0s 3ms/step - loss: 0.0790 - accuracy: 0.8806\n",
            "Epoch 99/100\n",
            "9/9 [==============================] - 0s 3ms/step - loss: 0.0788 - accuracy: 0.8806\n",
            "Epoch 100/100\n",
            "9/9 [==============================] - 0s 3ms/step - loss: 0.0785 - accuracy: 0.8806\n"
          ]
        }
      ],
      "source": [
        "# build the model with 3 layers:\n",
        "model=tf.keras.Sequential([ \n",
        "                            tf.keras.layers.Dense(32,activation=\"relu\"),\n",
        "                            tf.keras.layers.Dense(128,activation=\"relu\"),\n",
        "                            tf.keras.layers.Dense(128,activation=\"relu\"),\n",
        "                            tf.keras.layers.Dense(8,activation=\"softmax\")\n",
        "                                      ])\n",
        "\n",
        "\n",
        "# Compile the model\n",
        "model.compile(loss=tf.keras.losses.BinaryCrossentropy(),\n",
        "                         optimizer=tf.keras.optimizers.Adam(),\n",
        "                         metrics=[\"accuracy\"])\n",
        "\n",
        "# Fit the model for 200\n",
        "history=model.fit(train_dataset,\n",
        "                        batch_size=5,\n",
        "                        epochs=100,\n",
        "                        verbose=1,\n",
        "                         callbacks=[Early_stop])"
      ]
    },
    {
      "cell_type": "code",
      "execution_count": 124,
      "metadata": {
        "colab": {
          "base_uri": "https://localhost:8080/",
          "height": 793
        },
        "id": "0GRgvRrb-Wop",
        "outputId": "a73323f3-3e11-4100-a033-947af33d5cdc"
      },
      "outputs": [
        {
          "output_type": "display_data",
          "data": {
            "text/plain": [
              "<Figure size 432x288 with 1 Axes>"
            ],
            "image/png": "[encoded data removed]"
          },
          "metadata": {
            "needs_background": "light"
          }
        },
        {
          "output_type": "display_data",
          "data": {
            "text/plain": [
              "<Figure size 432x288 with 1 Axes>"
            ],
            "image/png": "[encoded data removed]"
          },
          "metadata": {
            "needs_background": "light"
          }
        },
        {
          "output_type": "display_data",
          "data": {
            "text/plain": [
              "<Figure size 432x288 with 1 Axes>"
            ],
            "image/png": "[encoded data removed]"
          },
          "metadata": {
            "needs_background": "light"
          }
        }
      ],
      "source": [
        "pd.DataFrame(history.history).plot();\n",
        "# ploting Graphs seperately for better understanding \n",
        "\n",
        "# Accuracy\n",
        "accuracy=history.history['accuracy']\n",
        "# Loss and \n",
        "loss=history.history['loss']\n",
        "\n",
        "# Acc and val_Acc plot:\n",
        "plt.figure()\n",
        "plt.plot(accuracy,label=' Training Accuracy')\n",
        "plt.title('ACCURACY GRAPH')\n",
        "plt.legend()\n",
        "\n",
        "# loss and Val_loss graphs:\n",
        "plt.figure()\n",
        "plt.plot(loss,label=' Training Loss')\n",
        "plt.title('Loss GRAPH')\n",
        "plt.legend();"
      ]
    },
    {
      "cell_type": "code",
      "execution_count": 98,
      "metadata": {
        "colab": {
          "base_uri": "https://localhost:8080/"
        },
        "id": "lOIDbJUH6mVH",
        "outputId": "f3546d98-44f6-475d-b5da-e3954711911f"
      },
      "outputs": [
        {
          "output_type": "stream",
          "name": "stdout",
          "text": [
            "Model: \"sequential_7\"\n",
            "_________________________________________________________________\n",
            " Layer (type)                Output Shape              Param #   \n",
            "=================================================================\n",
            " dense_19 (Dense)            (None, 32)                256       \n",
            "                                                                 \n",
            " dense_20 (Dense)            (None, 128)               4224      \n",
            "                                                                 \n",
            " dense_21 (Dense)            (None, 128)               16512     \n",
            "                                                                 \n",
            " dense_22 (Dense)            (None, 8)                 1032      \n",
            "                                                                 \n",
            "=================================================================\n",
            "Total params: 22,024\n",
            "Trainable params: 22,024\n",
            "Non-trainable params: 0\n",
            "_________________________________________________________________\n"
          ]
        }
      ],
      "source": [
        "model.summary()"
      ]
    },
    {
      "cell_type": "code",
      "execution_count": 129,
      "metadata": {
        "colab": {
          "base_uri": "https://localhost:8080/",
          "height": 217
        },
        "id": "NI4jrl8xAYL9",
        "outputId": "2ed7a1e8-11eb-490c-a4af-69b9090611a0"
      },
      "outputs": [
        {
          "output_type": "error",
          "ename": "NameError",
          "evalue": "ignored",
          "traceback": [
            "\u001b[0;31m---------------------------------------------------------------------------\u001b[0m",
            "\u001b[0;31mNameError\u001b[0m                                 Traceback (most recent call last)",
            "\u001b[0;32m<ipython-input-129-346c06b2674a>\u001b[0m in \u001b[0;36m<module>\u001b[0;34m()\u001b[0m\n\u001b[1;32m      1\u001b[0m \u001b[0;31m## model prediction on x_dataset\u001b[0m\u001b[0;34m\u001b[0m\u001b[0;34m\u001b[0m\u001b[0;34m\u001b[0m\u001b[0m\n\u001b[0;32m----> 2\u001b[0;31m \u001b[0mmodel_preds\u001b[0m\u001b[0;34m=\u001b[0m\u001b[0mmodel\u001b[0m\u001b[0;34m.\u001b[0m\u001b[0mpredict\u001b[0m\u001b[0;34m(\u001b[0m\u001b[0mtest_data\u001b[0m\u001b[0;34m)\u001b[0m\u001b[0;34m\u001b[0m\u001b[0;34m\u001b[0m\u001b[0m\n\u001b[0m\u001b[1;32m      3\u001b[0m \u001b[0mpreds\u001b[0m\u001b[0;34m=\u001b[0m\u001b[0mtf\u001b[0m\u001b[0;34m.\u001b[0m\u001b[0mmath\u001b[0m\u001b[0;34m.\u001b[0m\u001b[0mround\u001b[0m\u001b[0;34m(\u001b[0m\u001b[0mmodel_preds\u001b[0m\u001b[0;34m)\u001b[0m\u001b[0;34m\u001b[0m\u001b[0;34m\u001b[0m\u001b[0m\n\u001b[1;32m      4\u001b[0m \u001b[0mpreds\u001b[0m\u001b[0;34m[\u001b[0m\u001b[0;36m1\u001b[0m\u001b[0;34m:\u001b[0m\u001b[0;36m20\u001b[0m\u001b[0;34m]\u001b[0m\u001b[0;34m,\u001b[0m\u001b[0my_test\u001b[0m\u001b[0;34m[\u001b[0m\u001b[0;36m1\u001b[0m\u001b[0;34m:\u001b[0m\u001b[0;36m20\u001b[0m\u001b[0;34m]\u001b[0m\u001b[0;34m\u001b[0m\u001b[0;34m\u001b[0m\u001b[0m\n",
            "\u001b[0;31mNameError\u001b[0m: name 'test_data' is not defined"
          ]
        }
      ],
      "source": [
        "## model prediction on x_dataset\n",
        "model_preds=model.predict(test_data)\n",
        "preds=tf.math.round(model_preds)\n",
        "preds[1:20],y_test[1:20]"
      ]
    },
    {
      "cell_type": "code",
      "execution_count": 130,
      "metadata": {
        "colab": {
          "base_uri": "https://localhost:8080/"
        },
        "id": "jou_UxIIDCgv",
        "outputId": "dac2f189-1a5d-4637-83ee-2981e0ff17a9"
      },
      "outputs": [
        {
          "output_type": "execute_result",
          "data": {
            "text/plain": [
              "(68, array(['omL', 'omL', 'omL', 'omL', 'omL', 'pp', 'pp', 'pp', 'pp'],\n",
              "       dtype=object))"
            ]
          },
          "metadata": {},
          "execution_count": 130
        }
      ],
      "source": [
        "###one hot reverse fot x_true\n",
        "one_hot_inverse_true=pd.DataFrame(y_test).idxmax(1)\n",
        "y_true=encoder.inverse_transform(one_hot_inverse_true)\n",
        "len(y_true),y_true[11:20]"
      ]
    },
    {
      "cell_type": "code",
      "source": [
        "##one hot reverse fot model_preds\n",
        "one_hot_inverse_pred=pd.DataFrame(model_preds).idxmax(1)\n",
        "y_pred=encoder.inverse_transform(one_hot_inverse_pred)\n",
        "len(y_pred),y_pred[11:20]"
      ],
      "metadata": {
        "colab": {
          "base_uri": "https://localhost:8080/"
        },
        "id": "5EPdYEccN0Aq",
        "outputId": "3d3f4881-fcb8-4ba8-9e04-f39c3d9976d3"
      },
      "execution_count": 131,
      "outputs": [
        {
          "output_type": "execute_result",
          "data": {
            "text/plain": [
              "(68, array(['om', 'cp', 'cp', 'om', 'cp', 'imU', 'om', 'om', 'om'],\n",
              "       dtype=object))"
            ]
          },
          "metadata": {},
          "execution_count": 131
        }
      ]
    },
    {
      "cell_type": "code",
      "execution_count": 132,
      "metadata": {
        "colab": {
          "base_uri": "https://localhost:8080/",
          "height": 423
        },
        "id": "ysjyNLTNC9tL",
        "outputId": "67ed6fc7-d0d3-473e-ed3e-c0a8ddcfd3ab"
      },
      "outputs": [
        {
          "output_type": "execute_result",
          "data": {
            "text/plain": [
              "   y_true y_pred  pred_correct\n",
              "0      om     om          True\n",
              "1      om     om          True\n",
              "2      om     cp         False\n",
              "3      om     om          True\n",
              "4      om     om          True\n",
              "..    ...    ...           ...\n",
              "63     pp     om         False\n",
              "64     pp     cp         False\n",
              "65     pp     cp         False\n",
              "66     pp     cp         False\n",
              "67     pp    imU         False\n",
              "\n",
              "[68 rows x 3 columns]"
            ],
            "text/html": [
              "\n",
              "  <div id=\"df-48ada714-7c26-4bc2-a78c-fc31ad291c85\">\n",
              "    <div class=\"colab-df-container\">\n",
              "      <div>\n",
              "<style scoped>\n",
              "    .dataframe tbody tr th:only-of-type {\n",
              "        vertical-align: middle;\n",
              "    }\n",
              "\n",
              "    .dataframe tbody tr th {\n",
              "        vertical-align: top;\n",
              "    }\n",
              "\n",
              "    .dataframe thead th {\n",
              "        text-align: right;\n",
              "    }\n",
              "</style>\n",
              "<table border=\"1\" class=\"dataframe\">\n",
              "  <thead>\n",
              "    <tr style=\"text-align: right;\">\n",
              "      <th></th>\n",
              "      <th>y_true</th>\n",
              "      <th>y_pred</th>\n",
              "      <th>pred_correct</th>\n",
              "    </tr>\n",
              "  </thead>\n",
              "  <tbody>\n",
              "    <tr>\n",
              "      <th>0</th>\n",
              "      <td>om</td>\n",
              "      <td>om</td>\n",
              "      <td>True</td>\n",
              "    </tr>\n",
              "    <tr>\n",
              "      <th>1</th>\n",
              "      <td>om</td>\n",
              "      <td>om</td>\n",
              "      <td>True</td>\n",
              "    </tr>\n",
              "    <tr>\n",
              "      <th>2</th>\n",
              "      <td>om</td>\n",
              "      <td>cp</td>\n",
              "      <td>False</td>\n",
              "    </tr>\n",
              "    <tr>\n",
              "      <th>3</th>\n",
              "      <td>om</td>\n",
              "      <td>om</td>\n",
              "      <td>True</td>\n",
              "    </tr>\n",
              "    <tr>\n",
              "      <th>4</th>\n",
              "      <td>om</td>\n",
              "      <td>om</td>\n",
              "      <td>True</td>\n",
              "    </tr>\n",
              "    <tr>\n",
              "      <th>...</th>\n",
              "      <td>...</td>\n",
              "      <td>...</td>\n",
              "      <td>...</td>\n",
              "    </tr>\n",
              "    <tr>\n",
              "      <th>63</th>\n",
              "      <td>pp</td>\n",
              "      <td>om</td>\n",
              "      <td>False</td>\n",
              "    </tr>\n",
              "    <tr>\n",
              "      <th>64</th>\n",
              "      <td>pp</td>\n",
              "      <td>cp</td>\n",
              "      <td>False</td>\n",
              "    </tr>\n",
              "    <tr>\n",
              "      <th>65</th>\n",
              "      <td>pp</td>\n",
              "      <td>cp</td>\n",
              "      <td>False</td>\n",
              "    </tr>\n",
              "    <tr>\n",
              "      <th>66</th>\n",
              "      <td>pp</td>\n",
              "      <td>cp</td>\n",
              "      <td>False</td>\n",
              "    </tr>\n",
              "    <tr>\n",
              "      <th>67</th>\n",
              "      <td>pp</td>\n",
              "      <td>imU</td>\n",
              "      <td>False</td>\n",
              "    </tr>\n",
              "  </tbody>\n",
              "</table>\n",
              "<p>68 rows × 3 columns</p>\n",
              "</div>\n",
              "      <button class=\"colab-df-convert\" onclick=\"convertToInteractive('df-48ada714-7c26-4bc2-a78c-fc31ad291c85')\"\n",
              "              title=\"Convert this dataframe to an interactive table.\"\n",
              "              style=\"display:none;\">\n",
              "        \n",
              "  <svg xmlns=\"http://www.w3.org/2000/svg\" height=\"24px\"viewBox=\"0 0 24 24\"\n",
              "       width=\"24px\">\n",
              "    <path d=\"M0 0h24v24H0V0z\" fill=\"none\"/>\n",
              "    <path d=\"M18.56 5.44l.94 2.06.94-2.06 2.06-.94-2.06-.94-.94-2.06-.94 2.06-2.06.94zm-11 1L8.5 8.5l.94-2.06 2.06-.94-2.06-.94L8.5 2.5l-.94 2.06-2.06.94zm10 10l.94 2.06.94-2.06 2.06-.94-2.06-.94-.94-2.06-.94 2.06-2.06.94z\"/><path d=\"M17.41 7.96l-1.37-1.37c-.4-.4-.92-.59-1.43-.59-.52 0-1.04.2-1.43.59L10.3 9.45l-7.72 7.72c-.78.78-.78 2.05 0 2.83L4 21.41c.39.39.9.59 1.41.59.51 0 1.02-.2 1.41-.59l7.78-7.78 2.81-2.81c.8-.78.8-2.07 0-2.86zM5.41 20L4 18.59l7.72-7.72 1.47 1.35L5.41 20z\"/>\n",
              "  </svg>\n",
              "      </button>\n",
              "      \n",
              "  <style>\n",
              "    .colab-df-container {\n",
              "      display:flex;\n",
              "      flex-wrap:wrap;\n",
              "      gap: 12px;\n",
              "    }\n",
              "\n",
              "    .colab-df-convert {\n",
              "      background-color: #E8F0FE;\n",
              "      border: none;\n",
              "      border-radius: 50%;\n",
              "      cursor: pointer;\n",
              "      display: none;\n",
              "      fill: #1967D2;\n",
              "      height: 32px;\n",
              "      padding: 0 0 0 0;\n",
              "      width: 32px;\n",
              "    }\n",
              "\n",
              "    .colab-df-convert:hover {\n",
              "      background-color: #E2EBFA;\n",
              "      box-shadow: 0px 1px 2px rgba(60, 64, 67, 0.3), 0px 1px 3px 1px rgba(60, 64, 67, 0.15);\n",
              "      fill: #174EA6;\n",
              "    }\n",
              "\n",
              "    [theme=dark] .colab-df-convert {\n",
              "      background-color: #3B4455;\n",
              "      fill: #D2E3FC;\n",
              "    }\n",
              "\n",
              "    [theme=dark] .colab-df-convert:hover {\n",
              "      background-color: #434B5C;\n",
              "      box-shadow: 0px 1px 3px 1px rgba(0, 0, 0, 0.15);\n",
              "      filter: drop-shadow(0px 1px 2px rgba(0, 0, 0, 0.3));\n",
              "      fill: #FFFFFF;\n",
              "    }\n",
              "  </style>\n",
              "\n",
              "      <script>\n",
              "        const buttonEl =\n",
              "          document.querySelector('#df-48ada714-7c26-4bc2-a78c-fc31ad291c85 button.colab-df-convert');\n",
              "        buttonEl.style.display =\n",
              "          google.colab.kernel.accessAllowed ? 'block' : 'none';\n",
              "\n",
              "        async function convertToInteractive(key) {\n",
              "          const element = document.querySelector('#df-48ada714-7c26-4bc2-a78c-fc31ad291c85');\n",
              "          const dataTable =\n",
              "            await google.colab.kernel.invokeFunction('convertToInteractive',\n",
              "                                                     [key], {});\n",
              "          if (!dataTable) return;\n",
              "\n",
              "          const docLinkHtml = 'Like what you see? Visit the ' +\n",
              "            '<a target=\"_blank\" href=https://colab.research.google.com/notebooks/data_table.ipynb>data table notebook</a>'\n",
              "            + ' to learn more about interactive tables.';\n",
              "          element.innerHTML = '';\n",
              "          dataTable['output_type'] = 'display_data';\n",
              "          await google.colab.output.renderOutput(dataTable, element);\n",
              "          const docLink = document.createElement('div');\n",
              "          docLink.innerHTML = docLinkHtml;\n",
              "          element.appendChild(docLink);\n",
              "        }\n",
              "      </script>\n",
              "    </div>\n",
              "  </div>\n",
              "  "
            ]
          },
          "metadata": {},
          "execution_count": 132
        }
      ],
      "source": [
        "## how correct our prediction are:\n",
        "pred_df = pd.DataFrame({\n",
        "                        \"y_true\":y_true,\n",
        "                        \"y_pred\":y_pred\n",
        "                              })\n",
        "                        \n",
        "# 3. Is the prediction correct?\n",
        "pred_df[\"pred_correct\"] = pred_df[\"y_true\"] == pred_df[\"y_pred\"]\n",
        "pred_df[:]"
      ]
    },
    {
      "cell_type": "code",
      "execution_count": 133,
      "metadata": {
        "colab": {
          "base_uri": "https://localhost:8080/"
        },
        "id": "ShEkQWliGxTS",
        "outputId": "a3e2ca1d-477a-4a02-96bb-a3f5bae45f5a"
      },
      "outputs": [
        {
          "output_type": "stream",
          "name": "stdout",
          "text": [
            "Model: \"sequential_8\"\n",
            "_________________________________________________________________\n",
            " Layer (type)                Output Shape              Param #   \n",
            "=================================================================\n",
            " dense_23 (Dense)            (None, 32)                256       \n",
            "                                                                 \n",
            " dense_24 (Dense)            (None, 128)               4224      \n",
            "                                                                 \n",
            " dense_25 (Dense)            (None, 128)               16512     \n",
            "                                                                 \n",
            " dense_26 (Dense)            (None, 8)                 1032      \n",
            "                                                                 \n",
            "=================================================================\n",
            "Total params: 22,024\n",
            "Trainable params: 22,024\n",
            "Non-trainable params: 0\n",
            "_________________________________________________________________\n"
          ]
        }
      ],
      "source": [
        "# Save a model using the SavedModel format\n",
        "model.save('best_model_SavedModel_format.h5')\n",
        "# Load a model from the SavedModel format\n",
        "loaded_saved_model = tf.keras.models.load_model(\"best_model_SavedModel_format.h5\")\n",
        "loaded_saved_model.summary()"
      ]
    }
  ],
  "metadata": {
    "accelerator": "GPU",
    "colab": {
      "name": "coil_dataset_overfitting.ipynb",
      "provenance": [],
      "authorship_tag": "ABX9TyNYK55yhKOPEkwmvsTYOSdP",
      "include_colab_link": true
    },
    "kernelspec": {
      "display_name": "Python 3",
      "name": "python3"
    },
    "language_info": {
      "name": "python"
    }
  },
  "nbformat": 4,
  "nbformat_minor": 0
}